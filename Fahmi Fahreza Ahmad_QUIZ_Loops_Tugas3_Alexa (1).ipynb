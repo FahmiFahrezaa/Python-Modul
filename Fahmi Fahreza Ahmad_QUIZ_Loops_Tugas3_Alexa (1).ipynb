{
 "cells": [
  {
   "cell_type": "markdown",
   "id": "durable-missile",
   "metadata": {},
   "source": [
    "## QUIZ - Loops"
   ]
  },
  {
   "cell_type": "markdown",
   "id": "equipped-brick",
   "metadata": {},
   "source": [
    "**Q 1:**\n",
    "\n",
    "Define a function that draw a square of stars on the screen.\n",
    "\n",
    "The function name will be **sqaure_of_stars_with_while**.\n",
    "\n",
    "The parameter will be number of stars in one side of square.\n",
    "\n",
    "Hints:\n",
    "* ask for number of stars from the user\n",
    "* use while loop\n",
    "\n",
    "<pre>\n",
    "Expected output for 5 stars:\n",
    "\n",
    "* * * * * \n",
    "* * * * * \n",
    "* * * * * \n",
    "* * * * * \n",
    "* * * * * \n",
    "</pre>"
   ]
  },
  {
   "cell_type": "code",
   "execution_count": 97,
   "id": "660e76dc",
   "metadata": {},
   "outputs": [
    {
     "name": "stdout",
     "output_type": "stream",
     "text": [
      "1 , 2 , Trees , 4 , Fives , Trees , 7 , 8 , Trees , Fives , 11 , Trees , 13 , 14 , Trees&Fives , 16 , 17 , Trees , 19 , Fives , Trees , 22 , 23 , Trees , Fives , 26 , Trees , 28 , 29 , Trees&Fives , 31 , 32 , Trees , 34 , Fives , Trees , 37 , 38 , Trees , Fives , 41 , Trees , 43 , 44 , Trees&Fives , 46 , 47 , Trees , 49 , Fives , Trees , 52 , 53 , Trees , Fives , 56 , Trees , 58 , 59 , Trees&Fives , 61 , 62 , Trees , 64 , Fives , Trees , 67 , 68 , Trees , Fives\n"
     ]
    }
   ],
   "source": [
    "##### Q 1:\n",
    "\n",
    "# ----- your solution here -----\n",
    "# call the function you defined\n",
    "n = int(input(\"Enter the number of stars :  \"))\n",
    "i = 0\n",
    "print(\"Square Star Pattern\") \n",
    "\n",
    "while(i < n):\n",
    "    j = 0\n",
    "    while(j < n):      \n",
    "        j = j + 1\n",
    "        print('*', end = '  ')\n",
    "    i = i + 1\n",
    "    print('')\n",
    "    "
   ]
  },
  {
   "cell_type": "markdown",
   "id": "failing-arrangement",
   "metadata": {},
   "source": [
    "**Q 2:**\n",
    "\n",
    "Define a function that draw a square of stars on the screen.\n",
    "\n",
    "The function name will be **sqaure_of_stars_with_for**.\n",
    "\n",
    "The parameter will be number of stars in one side of square.\n",
    "\n",
    "Hints:\n",
    "* ask for number of stars from the user\n",
    "* use for loop\n",
    "\n",
    "<pre>\n",
    "Expected output for 5 stars:\n",
    "\n",
    "* * * * * \n",
    "* * * * * \n",
    "* * * * * \n",
    "* * * * * \n",
    "* * * * * \n",
    "</pre>"
   ]
  },
  {
   "cell_type": "code",
   "execution_count": 95,
   "id": "88b9bc0f",
   "metadata": {},
   "outputs": [
    {
     "name": "stdout",
     "output_type": "stream",
     "text": [
      "Enter the number of stars : 5\n",
      "Square Star Pattern\n",
      "* * * * * \n",
      "* * * * * \n",
      "* * * * * \n",
      "* * * * * \n",
      "* * * * * \n"
     ]
    }
   ],
   "source": [
    "##### Q 2:\n",
    "\n",
    "# ----- your solution here -----\n",
    "\n",
    "        \n",
    "# call the function you defined\n",
    "\n",
    "n = int(input(\"Enter the number of stars : \"))\n",
    "\n",
    "print(\"Square Star Pattern\")\n",
    "for i in range(n):\n",
    "    for j in range(n):\n",
    "        print('*', end = ' ')\n",
    "\n",
    "    print()\n",
    "\n",
    "\n",
    "\n"
   ]
  },
  {
   "cell_type": "markdown",
   "id": "rough-teddy",
   "metadata": {},
   "source": [
    "**Q 3:**\n",
    "\n",
    "Define a function that draw a right triangle (lower triangle) of stars on the screen.\n",
    "\n",
    "The function name will be **lower_triangle_with_while**.\n",
    "\n",
    "The parameter will be number of stars in one side of triangle.\n",
    "\n",
    "Hints:\n",
    "* ask for number of stars from the user\n",
    "* use while loop\n",
    "\n",
    "<pre>\n",
    "Expected output for 5 stars:\n",
    "(lower triangle)\n",
    "\n",
    "*\n",
    "* *\n",
    "* * *\n",
    "* * * * \n",
    "* * * * *\n",
    "</pre>"
   ]
  },
  {
   "cell_type": "code",
   "execution_count": 3,
   "id": "typical-stephen",
   "metadata": {},
   "outputs": [
    {
     "name": "stdout",
     "output_type": "stream",
     "text": [
      "Enter number the number of stars: 8\n",
      "* \n",
      "* * \n",
      "* * * \n",
      "* * * * \n",
      "* * * * * \n",
      "* * * * * * \n",
      "* * * * * * * \n",
      "* * * * * * * * \n"
     ]
    }
   ],
   "source": [
    "# Q 3:\n",
    "\n",
    "# ----- your solution here -----\n",
    "n = int(input('Enter number the number of stars: '))\n",
    "i = 1\n",
    "while i<=n:\n",
    "    print(\"* \" * i)\n",
    "    i+=1 \n",
    "\n",
    "# call the function you defined"
   ]
  },
  {
   "cell_type": "markdown",
   "id": "future-client",
   "metadata": {},
   "source": [
    "**Q 4:**\n",
    "\n",
    "Define a function that draw a right triangle (lower triangle) of stars on the screen.\n",
    "\n",
    "The function name will be **lower_triangle_with_for**.\n",
    "\n",
    "The parameter will be number of stars in one side of triangle.\n",
    "\n",
    "Hints:\n",
    "* ask for number of stars from the user\n",
    "* use for loop\n",
    "\n",
    "<pre>\n",
    "Expected output for 5 stars:\n",
    "(lower triangle)\n",
    "\n",
    "*\n",
    "* *\n",
    "* * *\n",
    "* * * * \n",
    "* * * * *\n",
    "</pre>"
   ]
  },
  {
   "cell_type": "code",
   "execution_count": 4,
   "id": "critical-reconstruction",
   "metadata": {},
   "outputs": [
    {
     "name": "stdout",
     "output_type": "stream",
     "text": [
      "Enter number the number of stars: 5\n",
      "* \n",
      "* * \n",
      "* * * \n",
      "* * * * \n",
      "* * * * * \n"
     ]
    }
   ],
   "source": [
    "# Q 4:\n",
    "\n",
    "# ----- your solution here -----\n",
    "n = int(input('Enter number the number of stars: '))\n",
    "for i in range(1, n+1):\n",
    "    print(\"* \" * i)\n",
    "\n",
    "# call the function you defined"
   ]
  },
  {
   "cell_type": "markdown",
   "id": "indoor-private",
   "metadata": {},
   "source": [
    "---"
   ]
  },
  {
   "cell_type": "markdown",
   "id": "super-trading",
   "metadata": {},
   "source": [
    "**Q 5:**\n",
    "\n",
    "Define a function that draw a right triangle (upper triangle) of stars on the screen.\n",
    "\n",
    "The function name will be **upper_triangle_with_for**.\n",
    "\n",
    "The parameter will be number of stars in one side of triangle.\n",
    "\n",
    "Hints:\n",
    "* ask for number of stars from the user\n",
    "* use for loop\n",
    "\n",
    "<pre>\n",
    "Expected output for 5 stars:\n",
    "(upper triangle)\n",
    "\n",
    "* * * * * \n",
    "* * * * \n",
    "* * * \n",
    "* * \n",
    "* \n",
    "</pre>"
   ]
  },
  {
   "cell_type": "code",
   "execution_count": 5,
   "id": "powerful-journalist",
   "metadata": {},
   "outputs": [
    {
     "name": "stdout",
     "output_type": "stream",
     "text": [
      "Enter number the number of stars: 5\n",
      "* * * * * \n",
      "* * * * \n",
      "* * * \n",
      "* * \n",
      "* \n"
     ]
    }
   ],
   "source": [
    "# Q 5:\n",
    "\n",
    "# ----- your solution here -----\n",
    "n = int(input('Enter number the number of stars: '))\n",
    "for i in range(n):\n",
    "          print(\"* \" * (n-i))\n",
    "        \n",
    "# call the function you defined"
   ]
  },
  {
   "cell_type": "markdown",
   "id": "serial-verse",
   "metadata": {},
   "source": [
    "---"
   ]
  },
  {
   "cell_type": "markdown",
   "id": "blessed-working",
   "metadata": {},
   "source": [
    "**Q 6:**\n",
    "\n",
    "Define a function that draw an isosceles triangle of stars on the screen.\n",
    "\n",
    "The function name will be **isosceles_triangle_with_for**.\n",
    "\n",
    "The parameter will be number of stars in half of the long side of triangle.\n",
    "\n",
    "Hints:\n",
    "* ask for number of stars from the user\n",
    "* call previous functions for drawing\n",
    "\n",
    "<pre>\n",
    "Expected output for 5 stars:\n",
    "(upper triangle)\n",
    "\n",
    "* \n",
    "* * \n",
    "* * * \n",
    "* * * * \n",
    "* * * * * \n",
    "* * * * \n",
    "* * * \n",
    "* * \n",
    "* \n",
    "</pre>"
   ]
  },
  {
   "cell_type": "code",
   "execution_count": 72,
   "id": "alone-syria",
   "metadata": {},
   "outputs": [
    {
     "name": "stdout",
     "output_type": "stream",
     "text": [
      "Enter number the number of stars: 8\n",
      "* \n",
      "* * \n",
      "* * * \n",
      "* * * * \n",
      "* * * * * \n",
      "* * * * * * \n",
      "* * * * * * * \n",
      "* * * * * * * * \n",
      "* * * * * * * \n",
      "* * * * * * \n",
      "* * * * * \n",
      "* * * * \n",
      "* * * \n",
      "* * \n",
      "* \n"
     ]
    }
   ],
   "source": [
    "# Q 6:\n",
    "\n",
    "# ----- your solution here -----\n",
    "n = int(input('Enter number the number of stars: '))\n",
    "i = 1\n",
    "while i<n:\n",
    "    print(\"* \" * i)\n",
    "    i+=1\n",
    "\n",
    "i = n\n",
    "while i>=1:\n",
    "    print(\"* \" * i)\n",
    "    i-=1\n",
    "    \n",
    "      \n",
    "# call the function you defined"
   ]
  },
  {
   "cell_type": "markdown",
   "id": "minute-romance",
   "metadata": {},
   "source": [
    "---"
   ]
  },
  {
   "cell_type": "markdown",
   "id": "ruled-meter",
   "metadata": {},
   "source": [
    "**Q 7:**\n",
    "\n",
    "Define a `bool` function which checks if the given number (parameter) is a prime number.\n",
    "\n",
    "The function name will be **is_prime** and it will return True if the number is prime, False otherwise."
   ]
  },
  {
   "cell_type": "code",
   "execution_count": 57,
   "id": "still-genome",
   "metadata": {},
   "outputs": [
    {
     "name": "stdout",
     "output_type": "stream",
     "text": [
      "True\n"
     ]
    }
   ],
   "source": [
    "# Q 7:\n",
    "\n",
    "# ----- your solution here -----\n",
    "def is_prima (x):\n",
    "    for i in range(2, x):\n",
    "        if x % i == 0:\n",
    "            return False\n",
    "\n",
    "        return True\n",
    "    \n",
    "# call the function you defined\n",
    "print(is_prima(7))\n"
   ]
  },
  {
   "cell_type": "markdown",
   "id": "sonic-rugby",
   "metadata": {},
   "source": [
    "**Q 8:**\n",
    "\n",
    "Define a function named **prime_factors**.\n",
    "\n",
    "The function will take an integer parameter and will find all the `prime factors` of that number."
   ]
  },
  {
   "cell_type": "code",
   "execution_count": 93,
   "id": "quiet-gothic",
   "metadata": {},
   "outputs": [
    {
     "name": "stdout",
     "output_type": "stream",
     "text": [
      "[2, 3, 3, 5]\n"
     ]
    }
   ],
   "source": [
    "# Q 8:\n",
    "\n",
    "# ----- your solution here -----\n",
    "def faktor_prima(x):\n",
    "    faktor_prima = []\n",
    "    angka = 2\n",
    "    while angka <= x:\n",
    "        if x%angka == 0:\n",
    "            faktor_prima.append(angka)\n",
    "            x = x/angka\n",
    "        else:\n",
    "            angka += 1\n",
    "    return faktor_prima\n",
    "\n",
    "        \n",
    "# call the function you defined\n",
    "print(faktor_prima(90))\n"
   ]
  },
  {
   "cell_type": "markdown",
   "id": "cleared-woman",
   "metadata": {},
   "source": [
    "**Q 9:**\n",
    "\n",
    "Define a function named **trees_and_fives**.\n",
    "\n",
    "It will loop over the integers from 1 to 50, both included.\n",
    "\n",
    "It will print the numbers but:\n",
    "* If the number is a multiple of 3 it will print \"Trees\" instead of the number\n",
    "* If the number is a multiple of 5 it will print \"Fives\" instead of the number\n",
    "* If the number is a multiple of both 3 and 5 it will print \"Trees&Fives\" instead of the number"
   ]
  },
  {
   "cell_type": "code",
   "execution_count": 102,
   "id": "loving-margin",
   "metadata": {},
   "outputs": [
    {
     "name": "stdout",
     "output_type": "stream",
     "text": [
      "1 , 2 , Trees , 4 , Fives , Trees , 7 , 8 , Trees , Fives , 11 , Trees , 13 , 14 , Trees&Fives , 16 , 17 , Trees , 19 , Fives , Trees , 22 , 23 , Trees , Fives , 26 , Trees , 28 , 29 , Trees&Fives , 31 , 32 , Trees , 34 , Fives , Trees , 37 , 38 , Trees , Fives , 41 , Trees , 43 , 44 , Trees&Fives , 46 , 47 , Trees , 49 , Fives\n"
     ]
    }
   ],
   "source": [
    "# Q 9:\n",
    "\n",
    "# ----- your solution here -----\n",
    "def kelipatan(n):\n",
    "  result = []\n",
    "  for x in range(1, n+1):\n",
    "      if x % 3 == 0 and x % 5 == 0:\n",
    "          result.append(\"Trees&Fives\")\n",
    "      elif x % 3 == 0:\n",
    "          result.append('Trees')\n",
    "      elif x % 5 == 0:\n",
    "          result.append('Fives')\n",
    "      else:\n",
    "          result.append(str(x))\n",
    "  return result\n",
    "def main():\n",
    "    print(' , '.join(kelipatan(50)))\n",
    "main()           \n",
    "        \n",
    "# call the function you defined"
   ]
  },
  {
   "cell_type": "markdown",
   "id": "registered-helmet",
   "metadata": {},
   "source": []
  }
 ],
 "metadata": {
  "kernelspec": {
   "display_name": "Python 3",
   "language": "python",
   "name": "python3"
  },
  "language_info": {
   "codemirror_mode": {
    "name": "ipython",
    "version": 3
   },
   "file_extension": ".py",
   "mimetype": "text/x-python",
   "name": "python",
   "nbconvert_exporter": "python",
   "pygments_lexer": "ipython3",
   "version": "3.8.8"
  },
  "vscode": {
   "interpreter": {
    "hash": "14cedd64601303a286e3a433b5cc0c98a360830fb2e1f085b21dfecee6e5bb02"
   }
  }
 },
 "nbformat": 4,
 "nbformat_minor": 5
}
