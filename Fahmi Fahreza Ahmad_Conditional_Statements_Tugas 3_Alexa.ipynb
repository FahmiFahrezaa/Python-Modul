{
 "cells": [
  {
   "cell_type": "markdown",
   "id": "serious-hanging",
   "metadata": {},
   "source": [
    "## QUIZ - Conditional Statements - SOLUTION"
   ]
  },
  {
   "cell_type": "markdown",
   "id": "judicial-retreat",
   "metadata": {},
   "source": [
    "**Q 1:**\n",
    "\n",
    "Ask the user to enter a number.\n",
    "\n",
    "Find out if this number is Odd or Even."
   ]
  },
  {
   "cell_type": "code",
   "execution_count": 1,
   "id": "saved-authority",
   "metadata": {},
   "outputs": [
    {
     "name": "stdout",
     "output_type": "stream",
     "text": [
      "Masukan Angka :2\n",
      "2 is even\n"
     ]
    }
   ],
   "source": [
    "# Q 1:\n",
    "x = int(input('Masukan Angka :')) \n",
    "if (x % 2 == 0):\n",
    "    print(x, 'is even')\n",
    "else :\n",
    "    print(x, 'is odd')\n",
    "    "
   ]
  },
  {
   "cell_type": "markdown",
   "id": "round-insulation",
   "metadata": {},
   "source": [
    "---"
   ]
  },
  {
   "cell_type": "markdown",
   "id": "introductory-bulgaria",
   "metadata": {},
   "source": [
    "**Q 2:**\n",
    "\n",
    "Ask for a letter from the user.\n",
    "\n",
    "Find out if it is a vowel or consonant."
   ]
  },
  {
   "cell_type": "code",
   "execution_count": 2,
   "id": "expected-zambia",
   "metadata": {},
   "outputs": [
    {
     "name": "stdout",
     "output_type": "stream",
     "text": [
      "Please enter a letter : u\n",
      "vowel :  u\n"
     ]
    }
   ],
   "source": [
    "# Q 2:\n",
    "letter = input (\"Please enter a letter : \")\n",
    "\n",
    "if letter in ('a', 'i', 'u', 'e', 'o', 'A', 'I', 'U', 'E', 'O'):\n",
    "    print(\"vowel : \", letter)\n",
    "else:\n",
    "    print(\"consonant : \", letter)"
   ]
  },
  {
   "cell_type": "markdown",
   "id": "logical-airport",
   "metadata": {},
   "source": [
    "---"
   ]
  },
  {
   "cell_type": "markdown",
   "id": "experimental-swedish",
   "metadata": {},
   "source": [
    "**Q 3:**\n",
    "\n",
    "Define a function with name **which_shape**.\n",
    "\n",
    "The function will ask a number from the user.\n",
    "\n",
    "It will decide the name of the shape according to that number, and return that name.\n",
    "\n",
    "Sides & Shapes:\n",
    "* 3 - Triangle\n",
    "* 4 - Rectangle\n",
    "* 5 - Pentagon\n",
    "* 6 - Hexagon\n",
    "* 7 and more - Polygon"
   ]
  },
  {
   "cell_type": "code",
   "execution_count": 3,
   "id": "soviet-storage",
   "metadata": {},
   "outputs": [
    {
     "name": "stdout",
     "output_type": "stream",
     "text": [
      "Please enter the number of sides : 4\n",
      "Rectangle\n"
     ]
    }
   ],
   "source": [
    "# Q 3:\n",
    "shape = input(\"Please enter the number of sides : \")\n",
    "if shape=='3':\n",
    "    print ('Triangle')\n",
    "elif shape=='4':\n",
    "    print ('Rectangle')\n",
    "elif shape=='5':\n",
    "    print ('Pentagon')\n",
    "elif shape=='6':\n",
    "    print ('Hexagon')\n",
    "elif shape=='7':\n",
    "    print ('Polygon')\n",
    "else:\n",
    "    print('Invalid Entry')"
   ]
  },
  {
   "cell_type": "markdown",
   "id": "close-triumph",
   "metadata": {},
   "source": [
    "---"
   ]
  },
  {
   "cell_type": "markdown",
   "id": "built-proposition",
   "metadata": {},
   "source": [
    "**Q 4:**\n",
    "\n",
    "Define a function to print the number of days in the given month.\n",
    "\n",
    "Function name will be **number_of_days_in_month**.\n",
    "\n",
    "It will ask month name from the user.\n",
    "\n",
    "Number of Days in Gregorian Calendar:\n",
    "* January - 31\n",
    "* February - 28 or 29\n",
    "* March - 31\n",
    "* April - 30\n",
    "* May - 31\n",
    "* June - 30\n",
    "* July - 31\n",
    "* August - 31\n",
    "* September - 30\n",
    "* October - 31\n",
    "* November - 30\n",
    "* December - 31\n",
    "\n",
    "<pre>\n",
    "Expected Output:\n",
    "Please enter the month name:  October\n",
    "'There are 31 days in October'\n",
    "</pre>"
   ]
  },
  {
   "cell_type": "code",
   "execution_count": 4,
   "id": "intimate-antigua",
   "metadata": {},
   "outputs": [
    {
     "name": "stdout",
     "output_type": "stream",
     "text": [
      "Please enter the month name : May\n",
      "There are 31 days in May\n"
     ]
    }
   ],
   "source": [
    "# Q 4:\n",
    "month = input(\"Please enter the month name : \")\n",
    "if month=='February':\n",
    "    print ('There are 27 or 28 days in February')\n",
    "elif month in ('January', 'March', 'May', 'July', 'August', 'October', 'December'):\n",
    "    print ('There are 31 days in', month)\n",
    "elif month in ('April', 'June', 'September', 'November'):\n",
    "    print ('There are 30 days in', month)\n",
    "else:\n",
    "    print('Invalid Entry')"
   ]
  },
  {
   "cell_type": "markdown",
   "id": "sonic-right",
   "metadata": {},
   "source": [
    "---"
   ]
  },
  {
   "cell_type": "markdown",
   "id": "southwest-australia",
   "metadata": {},
   "source": [
    "**Q 5:**\n",
    "\n",
    "Define a function to ask the length of sides of a triangle.\n",
    "\n",
    "Function name is **name_the_triangle**.\n",
    "\n",
    "The function will decide the type of triangle, according to the length of the sides.\n",
    "\n",
    "And will return its name.\n",
    "\n",
    "Types of Triangles:\n",
    "* Equilateral: three equal sides\n",
    "* Isosceles: two equal sides\n",
    "* Scalene: no equal sides"
   ]
  },
  {
   "cell_type": "code",
   "execution_count": 5,
   "id": "korean-condition",
   "metadata": {},
   "outputs": [
    {
     "name": "stdout",
     "output_type": "stream",
     "text": [
      "Lenght for the first side : 1\n",
      "Lenght for the second side : 2\n",
      "Lenght for the third side : 3\n",
      "Scalene\n"
     ]
    }
   ],
   "source": [
    "# Q 5:\n",
    "sideA = int(input(\"Lenght for the first side : \"))\n",
    "sideB = int(input(\"Lenght for the second side : \"))\n",
    "sideC = int(input(\"Lenght for the third side : \"))\n",
    "\n",
    "if sideA==sideB==sideC:\n",
    "    print('Equilateral')\n",
    "elif sideA==sideB or sideB==sideC or sideC==sideA:\n",
    "    print('Isosceles')\n",
    "else:\n",
    "    print('Scalene')"
   ]
  },
  {
   "cell_type": "markdown",
   "id": "separated-hunger",
   "metadata": {},
   "source": [
    "**Q 6:**\n",
    "\n",
    "Define a function that decides what to wear, according to the month and number of the day.\n",
    "\n",
    "Function name will be **what_to_wear** and it will ask for the name of the month and day number.\n",
    "\n",
    "According to month and day number, it will check for the season and with season, it will return what to wear.\n",
    "\n",
    "There are 4 months which are in between the seasons; March, June, September and December. For these months, the first 15 days will be in the previous season. For example for March, it will be Winter until 15th. And it will be Spring after the 15th. \n",
    "\n",
    "<pre>\n",
    "Seasons and Garments \n",
    "Spring: Shirt\n",
    "Summer: T-shirt\n",
    "Autumn: Sweater\n",
    "Winter: Coat\n",
    "\n",
    "Expected Output:\n",
    "Enter month name:  March\n",
    "Enter day number:  24\n",
    "In March, day 24 we wear Shirt\n",
    "</pre>"
   ]
  },
  {
   "cell_type": "code",
   "execution_count": 40,
   "id": "a98f178d",
   "metadata": {},
   "outputs": [
    {
     "name": "stdout",
     "output_type": "stream",
     "text": [
      "Enter month name : September\n",
      "Enter day number : 17\n",
      "In September, day  17 we wear Sweater\n"
     ]
    }
   ],
   "source": [
    "#Q 6:\n",
    "March     = 'Winter'\n",
    "June      = 'Spring'\n",
    "September = 'Summer'\n",
    "December  = 'Autumn'\n",
    "month = input(\"Enter month name : \" )\n",
    "day = int(input(\"Enter day number : \" ))\n",
    "\n",
    "if day <=15 and month=='March' :\n",
    "    print(\"In March, day \", day, \"we wear coat\")\n",
    "elif day >=15 and month=='March':\n",
    "    print(\"In March, day \", day, \"we wear Shirt\")\n",
    "elif day <=15 and month=='June' :\n",
    "     print(\"In June, day \", day, \"we wear Shirt\")\n",
    "elif day >=15 and month=='June' :\n",
    "     print(\"In June, day \", day, \"we wear T-Shirt\")\n",
    "elif day <=15 and month=='September':\n",
    "     print(\"In September, day \", day, \"we wear T-Shirt\")\n",
    "elif day>=15 and month=='September' :\n",
    "    print(\"In September, day \", day, \"we wear Sweater\")\n",
    "elif day <=15 and month=='Desember':\n",
    "    print(\"In September, day \", day, \"we wear Sweater\")\n",
    "elif day >=15 and month=='Desember':\n",
    "    print(\"In Desember, day \", day, \"we wear coat\")\n",
    "else:\n",
    "    print(\"Unavailabe\")"
   ]
  },
  {
   "cell_type": "markdown",
   "id": "electric-suicide",
   "metadata": {},
   "source": [
    "---"
   ]
  },
  {
   "cell_type": "markdown",
   "id": "wrapped-fitting",
   "metadata": {},
   "source": [
    "**Q 7:**\n",
    "\n",
    "Define a function named **which_day**.\n",
    "\n",
    "It will ask for any of the capital letters: F, M, S, T, W\n",
    "\n",
    "These are the first letters of the day names in a week.\n",
    "\n",
    "The function will decide which day by the first letter.\n",
    "\n",
    "It may ask additional questions if needed?\n",
    "\n",
    "Days:\n",
    "* Monday, Tuesday, Wednesday, Thursday, Friday, Saturday, Sunday\n",
    "\n",
    "Additional questions by letter:\n",
    "* S: \n",
    "    * \"first day of weekend\" or \n",
    "    * \"last day of weekend\"\n",
    "* T: \n",
    "    * \"at the beginning of the week\" or \n",
    "    * \"at the middle of the week\"\n",
    "    \n",
    "<pre>\n",
    "Expected Output:\n",
    "Please enter any of the capital letters: F, M, S, T, W :  T\n",
    "Is it at the beginning of the week? Yes - No? No\n",
    "Your day: THURSDAY\n",
    "</pre>"
   ]
  },
  {
   "cell_type": "code",
   "execution_count": 62,
   "id": "blind-teaching",
   "metadata": {},
   "outputs": [
    {
     "name": "stdout",
     "output_type": "stream",
     "text": [
      "Please enter any of the capital letters : F, M, S, T, W : S\n",
      "Is it at the beginning of the week? Yes - No ? No\n",
      "Your day : Saturday Sunday\n"
     ]
    }
   ],
   "source": [
    "# Q 7:\n",
    "M = ('Monday')\n",
    "T = ['Tuesday', 'Thursday']\n",
    "W = ('Wednesday')\n",
    "F = ('Friday')\n",
    "S = ['Saturday','Sunday']\n",
    "\n",
    "First_day = ('Sunday')\n",
    "Last_day  = ('Saturday')\n",
    "Beg_Week  = ('Tuesday')\n",
    "Mid_Week  = ('Thursday')\n",
    "\n",
    "day = input(\"Please enter any of the capital letters : F, M, S, T, W : \" )\n",
    "bgn = input(\"Is it at the beginning of the week? Yes - No ? \")\n",
    "\n",
    "if day=='M' and bgn=='Yes' :\n",
    "    print(\"Your day : \", M)\n",
    "elif day=='T' and bgn=='Yes':\n",
    "    print(\"Your day :\" , Beg_Week)\n",
    "elif day=='T' and bgn=='No' :\n",
    "    print(\"Your day :\", Mid_Week)\n",
    "elif day=='W' and bgn=='Yes' :\n",
    "    print(\"Your day :\", W)\n",
    "elif day=='F' and bgn=='Yes' :\n",
    "    print(\"Your day :\", F)\n",
    "elif day=='S' and bgn=='No' :\n",
    "    print(\"Your day :\", Last_day, First_day)\n",
    "\n",
    "else:\n",
    "    print(\"Unavailabe\")"
   ]
  },
  {
   "cell_type": "markdown",
   "id": "general-survey",
   "metadata": {},
   "source": [
    "---"
   ]
  },
  {
   "cell_type": "markdown",
   "id": "dietary-roberts",
   "metadata": {},
   "source": [
    "**Q 8:**\n",
    "\n",
    "Define a function named **odds_evens**.\n",
    "\n",
    "It will ask for a positive number from the user.\n",
    "\n",
    "Check if the input is an integer or not.\n",
    "\n",
    "Also check if the number is a positive number.\n",
    "\n",
    "Decide if the number is ODD or EVEN and print:\n",
    "* If the number is odd -> ODD\n",
    "* If the number is event and between 1 and 10 (both included) -> EVEN of TEN\n",
    "* If the number is even and between 11 and 20 (both included) -> EVEN of TWENTY\n",
    "* If the number is even and greater than 20 -> EVEN\n",
    "\n",
    "<pre>\n",
    "Expected Output:\n",
    "Please enter a number:  18\n",
    "EVEN of TWENTY\n",
    "</pre>"
   ]
  },
  {
   "cell_type": "code",
   "execution_count": 15,
   "id": "meaningful-southeast",
   "metadata": {},
   "outputs": [
    {
     "name": "stdout",
     "output_type": "stream",
     "text": [
      "Please Enter number : 23\n",
      "EVEN\n"
     ]
    }
   ],
   "source": [
    "# Q 8:\n",
    "n = int(input(\"Please Enter number : \"))\n",
    "if n >= 20 :\n",
    "    print(\"EVEN\")\n",
    "elif n >= 10:\n",
    "    print(\"EVEN of TWENTY\")\n",
    "elif n <= 10:\n",
    "    print(\"EVEN of TEN\")\n",
    "else:\n",
    "    print(\"ODD\")\n"
   ]
  },
  {
   "cell_type": "markdown",
   "id": "unlike-tablet",
   "metadata": {},
   "source": [
    "---"
   ]
  },
  {
   "cell_type": "markdown",
   "id": "relative-caution",
   "metadata": {},
   "source": [
    "**Q 9:**\n",
    "\n",
    "**Sum of Odds and Evens:** \n",
    "* If the sum of two numbers is Odd then only one of these is Odd.\n",
    "* It the sum of two numbers is Even then both are Odd or both are Even.\n",
    "\n",
    "Define a function named **sum_of_odds_and_evens**.\n",
    "\n",
    "It will ask for two integers from the user.\n",
    "\n",
    "Then it will decide if the sum is Odd or Even.\n",
    "\n",
    "**Important Note:** Do not calculate the actual summation as x + y.\n",
    "\n",
    "<pre>\n",
    "Expected Output:\n",
    "First Number:  8\n",
    "Second Number:  3\n",
    "Sum is ODD\n",
    "</pre>"
   ]
  },
  {
   "cell_type": "code",
   "execution_count": null,
   "id": "controlling-curve",
   "metadata": {},
   "outputs": [],
   "source": [
    "# Q 9:\n",
    "first = input('First Number : ')\n",
    "second = input('Second Number : ')\n",
    "sum = int(first) + int(second)\n",
    "\n",
    "if  sum % 2 == 0:\n",
    "    print(\"Sum is Even\")\n",
    "else:\n",
    "    print(\"Sum is Odd\")\n"
   ]
  },
  {
   "cell_type": "markdown",
   "id": "intellectual-substance",
   "metadata": {},
   "source": [
    "---"
   ]
  }
 ],
 "metadata": {
  "kernelspec": {
   "display_name": "Python 3",
   "language": "python",
   "name": "python3"
  },
  "language_info": {
   "codemirror_mode": {
    "name": "ipython",
    "version": 3
   },
   "file_extension": ".py",
   "mimetype": "text/x-python",
   "name": "python",
   "nbconvert_exporter": "python",
   "pygments_lexer": "ipython3",
   "version": "3.8.8"
  },
  "vscode": {
   "interpreter": {
    "hash": "14cedd64601303a286e3a433b5cc0c98a360830fb2e1f085b21dfecee6e5bb02"
   }
  }
 },
 "nbformat": 4,
 "nbformat_minor": 5
}
