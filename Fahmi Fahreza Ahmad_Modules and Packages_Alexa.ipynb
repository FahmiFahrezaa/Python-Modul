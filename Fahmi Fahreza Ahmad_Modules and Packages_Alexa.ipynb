{
 "cells": [
  {
   "cell_type": "markdown",
   "id": "b2025e7a",
   "metadata": {},
   "source": [
    "##\n",
    " QUIZ - Modules and Packages\n",
    "\n",
    "\n",
    "# Q 1:\n",
    "\"\"\"\n",
    "Define a function named 'random_printer'.\n",
    "It will import the random module and will print a random number between 100 and 200.\n",
    "\n",
    "Hints:\n",
    "* randint()\n",
    "\"\"\"\n",
    "\n",
    "\n"
   ]
  },
  {
   "cell_type": "code",
   "execution_count": 3,
   "id": "352ec1f1",
   "metadata": {},
   "outputs": [
    {
     "name": "stdout",
     "output_type": "stream",
     "text": [
      "159\n"
     ]
    }
   ],
   "source": [
    "import random\n",
    "\n",
    "def random_printer():\n",
    "    print(random.randint(100, 200))\n",
    "random_printer()"
   ]
  },
  {
   "cell_type": "markdown",
   "id": "0a4164cd",
   "metadata": {},
   "source": [
    "# # Q 2:\n",
    "\"\"\"\n",
    "Create a module named 'consonants' in the current project.\n",
    "Define a function named 'get_consonants' in this module.\n",
    "This function takes a text as parameter and it will return a set of consonants in this text.\n",
    "Call this function with a text and print the consonants in this text.\n",
    "\n",
    "Hints:\n",
    "* your module should implement its own exception handling\n",
    "\n",
    "Expected Output:\n",
    "'Pyton Programming Language.... /@*-'\n",
    "\n",
    "{'r', 'P', 'L', 'y', 'm', 'n', 't', 'g'}\n",
    "\n"
   ]
  },
  {
   "cell_type": "code",
   "execution_count": 4,
   "id": "152336f6",
   "metadata": {},
   "outputs": [
    {
     "name": "stdout",
     "output_type": "stream",
     "text": [
      "{'y', 'r', 'h', 'g', 'l', 'n', 'p', 'm', 't'}\n"
     ]
    }
   ],
   "source": [
    "class InvalidInputError(Exception):\n",
    "    pass\n",
    "\n",
    "def get_consonants(text):\n",
    "    if not isinstance(text, str) or len(text) == 0:\n",
    "        raise InvalidInputError(\"Input must be a non-empty string\")\n",
    "    consonants = set(c for c in text.lower() if c.isalpha() and c not in 'aeiou')\n",
    "    return consonants\n",
    "\n",
    "text = \"Python Programming Language.... /@*-\"\n",
    "consonants = get_consonants(text)\n",
    "print(consonants)"
   ]
  },
  {
   "cell_type": "code",
   "execution_count": null,
   "id": "3c7b5e22",
   "metadata": {},
   "outputs": [],
   "source": []
  }
 ],
 "metadata": {
  "kernelspec": {
   "display_name": "Python 3",
   "language": "python",
   "name": "python3"
  },
  "language_info": {
   "codemirror_mode": {
    "name": "ipython",
    "version": 3
   },
   "file_extension": ".py",
   "mimetype": "text/x-python",
   "name": "python",
   "nbconvert_exporter": "python",
   "pygments_lexer": "ipython3",
   "version": "3.8.8"
  }
 },
 "nbformat": 4,
 "nbformat_minor": 5
}
