{
 "cells": [
  {
   "cell_type": "markdown",
   "id": "reported-polish",
   "metadata": {},
   "source": [
    "## QUIZ - Tuple"
   ]
  },
  {
   "cell_type": "markdown",
   "id": "hourly-trick",
   "metadata": {},
   "source": [
    "**Q 1:**\n",
    "\n",
    "Define a function named **create_tuple**.\n",
    "\n",
    "It will create a tuple of numbers from 1 to 10.\n",
    "\n",
    "Then it will add numbers from 11 to 20 to this tuple.\n",
    "\n",
    "And it will return the final form of the tuple.\n",
    "\n",
    "**Hints:**\n",
    "* Tuples are Immutable. So how do you add elements to a Tuple?\n",
    "* use `for` loop\n",
    "* `range()`\n",
    "\n",
    "<pre style=\"background: gold;\">\n",
    "Result: (1, 2, 3, 4, 5, 6, 7, 8, 9, 10, 11, 12, 13, 14, 15, 16, 17, 18, 19, 20)\n",
    "</pre>"
   ]
  },
  {
   "cell_type": "code",
   "execution_count": 19,
   "id": "backed-simulation",
   "metadata": {},
   "outputs": [
    {
     "name": "stdout",
     "output_type": "stream",
     "text": [
      "(1, 2, 3, 4, 5, 6, 7, 8, 9, 10, 11, 12, 13, 14, 15, 16, 17, 18, 19, 20)\n"
     ]
    }
   ],
   "source": [
    "# Q 1:\n",
    "tuple1 = (1,2,3,4,5,6,7,8,9,10)\n",
    "tuple2 = (11,12,13,14,15,16,17,18,19,20)\n",
    "\n",
    "tuple3 = tuple1 + tuple2\n",
    "print(tuple3)"
   ]
  },
  {
   "cell_type": "markdown",
   "id": "rolled-richards",
   "metadata": {},
   "source": [
    "---"
   ]
  },
  {
   "cell_type": "markdown",
   "id": "municipal-screening",
   "metadata": {},
   "source": [
    "**Q 2:**\n",
    "\n",
    "Define a function named **tuple_to_string**.\n",
    "\n",
    "It will take a Tuple as parameter and convert it into a String.\n",
    "\n",
    "Then it will return this String.\n",
    "\n",
    "**Hints:**\n",
    "* `join()`\n",
    "\n",
    "<pre style=\"background: gold;\">\n",
    "Parameter:\n",
    "t = ('M', 'a', 'c', 'h', 'i', 'n', 'e', ' ', 'L', 'e', 'a', 'r', 'n', 'i', 'n', 'g')\n",
    "\n",
    "Expected Output: Machine Learning\n",
    "</pre>"
   ]
  },
  {
   "cell_type": "code",
   "execution_count": 20,
   "id": "friendly-tours",
   "metadata": {},
   "outputs": [
    {
     "name": "stdout",
     "output_type": "stream",
     "text": [
      "Machine Learning\n"
     ]
    }
   ],
   "source": [
    "# Q 2:\n",
    "\n",
    "# ---- your solution here ----  \n",
    "    \n",
    "# call the function you defined\n",
    "t = ('M', 'a', 'c', 'h', 'i', 'n', 'e', ' ', 'L', 'e', 'a', 'r', 'n', 'i', 'n', 'g')\n",
    "t = \"\".join(t)\n",
    "print(t)"
   ]
  },
  {
   "cell_type": "markdown",
   "id": "similar-concentration",
   "metadata": {},
   "source": [
    "---"
   ]
  },
  {
   "cell_type": "markdown",
   "id": "subject-montgomery",
   "metadata": {},
   "source": [
    "**Q 3:**\n",
    "\n",
    "Define a function named **string_to_list_to_tuple**.\n",
    "\n",
    "It will take String as parameter.\n",
    "\n",
    "First it will convert this String into a List, then it will convert this List into a Tuple.\n",
    "\n",
    "Finally it will return the Tuple.\n",
    "\n",
    "**Hints:**\n",
    "* only use `constructor` methods\n",
    "    * list()\n",
    "    * tuple()\n",
    "    \n",
    "<pre style=\"background: gold;\">\n",
    "Parameter:\n",
    "pythons_father = 'Guido van Rossum'\n",
    "\n",
    "Expected Result: ('G', 'u', 'i', 'd', 'o', ' ', 'v', 'a', 'n', ' ', 'R', 'o', 's', 's', 'u', 'm')\n",
    "</pre>"
   ]
  },
  {
   "cell_type": "code",
   "execution_count": 21,
   "id": "virgin-tamil",
   "metadata": {},
   "outputs": [
    {
     "name": "stdout",
     "output_type": "stream",
     "text": [
      "['G', 'u', 'i', 'd', 'o', ' ', 'v', 'a', 'n', ' ', 'R', 'o', 's', 's', 'u', 'm']\n"
     ]
    }
   ],
   "source": [
    "# Q 3:\n",
    "def Convert(string):\n",
    "    list1 = []\n",
    "    list1[:0] = string\n",
    "    return list1\n",
    "# call the function you defined\n",
    "pythons_father = 'Guido van Rossum'\n",
    "print(Convert(pythons_father))"
   ]
  },
  {
   "cell_type": "markdown",
   "id": "local-lesson",
   "metadata": {},
   "source": [
    "---"
   ]
  },
  {
   "cell_type": "markdown",
   "id": "cardiovascular-belle",
   "metadata": {},
   "source": [
    "**Q 4:**\n",
    "\n",
    "Define a function named **how_many_instances**.\n",
    "\n",
    "It will take a Tuple and an index (int) as parameter.\n",
    "\n",
    "Function will first find the element at that index.\n",
    "\n",
    "Then it will return the number of instances of the element in the Tuple.\n",
    "\n",
    "**Hints:**\n",
    "* count()\n",
    "\n",
    "<pre style=\"background: gold;\">\n",
    "Parameters:\n",
    "t = (5, 2, 3, 3, 4, 2, 1, 3, 4, 5, 2, 1, 2)\n",
    "i = 1\n",
    "\n",
    "how_many_instances(t, i)\n",
    "\n",
    "Expected Output: 4\n",
    "</pre>"
   ]
  },
  {
   "cell_type": "code",
   "execution_count": 22,
   "id": "reverse-nothing",
   "metadata": {},
   "outputs": [
    {
     "name": "stdout",
     "output_type": "stream",
     "text": [
      "4\n"
     ]
    }
   ],
   "source": [
    "# Q 4:\n",
    "\n",
    "# ---- your solution here ----\n",
    "    \n",
    "    \n",
    "# call the function you defined\n",
    "t = (5, 2, 3, 3, 4, 2, 1, 3, 4, 5, 2, 1, 2)\n",
    "i = 1\n",
    "count = t.count(2)\n",
    "print(count)"
   ]
  },
  {
   "cell_type": "markdown",
   "id": "dependent-tonight",
   "metadata": {},
   "source": [
    "---"
   ]
  },
  {
   "cell_type": "markdown",
   "id": "fewer-fairy",
   "metadata": {},
   "source": [
    "**Q 5:**\n",
    "\n",
    "Slicing Operations in Tuples are exactly the same as in Lists and Strings.\n",
    "\n",
    "Our Tuple is:\n",
    "\n",
    "<pre> tup = ('a', 'b', 'c', 'd', 'e', 'f', 'g', 'h', 'i', 'j') </pre>\n",
    "\n",
    "Find the items in tup, based on slicing and indexing:\n",
    "1. items from position 4 (inc) to position 7 (inc)\n",
    "2. the first 5 items\n",
    "3. items from position 6 (inc)\n",
    "4. all items\n",
    "5. 2nd item from the last\n",
    "6. last 4 items\n",
    "7. items from position 2 to 8, with step size 2\n",
    "8. all items with step size 3\n",
    "9. items from position 9 to position 3 (exc) but in reverse order\n",
    "10. print the tup in reverse order\n",
    "11. print the tup in reverse order with step size 2\n",
    "12. all the elements excluding the last one, with negative index\n",
    "\n",
    "<pre>\n",
    "Expected Output for each sub question:\n",
    "1. ('d', 'e', 'f', 'g')\n",
    "2. ('a', 'b', 'c', 'd', 'e')\n",
    "3. ('f', 'g', 'h', 'i', 'j')\n",
    "4. ('a', 'b', 'c', 'd', 'e', 'f', 'g', 'h', 'i', 'j')\n",
    "5. i\n",
    "6. ('g', 'h', 'i', 'j')\n",
    "7. ('b', 'd', 'f', 'h')\n",
    "8. ('a', 'd', 'g', 'j')\n",
    "9. ('i', 'h', 'g', 'f', 'e', 'd')\n",
    "10. ('j', 'i', 'h', 'g', 'f', 'e', 'd', 'c', 'b', 'a')\n",
    "11. ('j', 'h', 'f', 'd', 'b')\n",
    "12. ('a', 'b', 'c', 'd', 'e', 'f', 'g', 'h', 'i')\n",
    "</pre>"
   ]
  },
  {
   "cell_type": "code",
   "execution_count": 23,
   "id": "union-decline",
   "metadata": {},
   "outputs": [
    {
     "name": "stdout",
     "output_type": "stream",
     "text": [
      "('d', 'e', 'f', 'g')\n",
      "('a', 'b', 'c', 'd', 'e')\n",
      "('f', 'g', 'h', 'i', 'j')\n",
      "('a', 'b', 'c', 'd', 'e', 'f', 'g', 'h', 'i', 'j')\n",
      "i\n",
      "('g', 'h', 'i', 'j')\n",
      "('b', 'd', 'f', 'h')\n",
      "('a', 'd', 'g', 'j')\n",
      "('i', 'h', 'g', 'f', 'e', 'd')\n",
      "('j', 'i', 'h', 'g', 'f', 'e', 'd', 'c', 'b', 'a')\n",
      "('j', 'h', 'f', 'd', 'b')\n",
      "('a', 'b', 'c', 'd', 'e', 'f', 'g', 'h', 'i')\n"
     ]
    }
   ],
   "source": [
    "# Q 5:\n",
    "\n",
    "tup = ('a', 'b', 'c', 'd', 'e', 'f', 'g', 'h', 'i', 'j') \n",
    "\n",
    "\n",
    "# 1. items from position 4 (inc) to position 7 (inc)\n",
    "print(tup[3:7])\n",
    "\n",
    "# 2. the first 5 items\n",
    "print(tup[0:5])\n",
    "\n",
    "# 3. items from position 6 (inc)\n",
    "print(tup[5:10])\n",
    "\n",
    "# 4. all items\n",
    "print(tup[0:10])\n",
    "\n",
    "# 5. 2nd item from the last\n",
    "print(tup[-2])\n",
    "\n",
    "# 6. last 4 items\n",
    "print(tup[6:10])\n",
    "\n",
    "# 7. items from position 2 to 8, with step size 2\n",
    "print(tup[1:9:2])\n",
    "\n",
    "# 8. all items with step size 3\n",
    "print(tup[0:10:3])\n",
    "\n",
    "# 9. items from position 9 to position 3 (exc) but in reverse order\n",
    "print(tup[-2:-8:-1])\n",
    "\n",
    "# 10. print the tup in reverse order\n",
    "print(tup[-1:-11:-1])\n",
    "\n",
    "# 11. print the tup in reverse order with step size 2\n",
    "print(tup[-1:-10:-2])\n",
    "\n",
    "# 12. all the elements excluding the last one, with negative index\n",
    "print(tup[-10:-1])"
   ]
  },
  {
   "cell_type": "markdown",
   "id": "expanded-legend",
   "metadata": {},
   "source": [
    "---"
   ]
  },
  {
   "cell_type": "markdown",
   "id": "binding-eligibility",
   "metadata": {},
   "source": [
    "**Q 6:**\n",
    "\n",
    "Define a function named **change_tuple_ending**.\n",
    "\n",
    "It will take a List as parameter.\n",
    "\n",
    "The elements of this list will be Tuples.\n",
    "\n",
    "Each Tuple may be in different length, so the size of the elements in the list is not fixed.\n",
    "\n",
    "The function will replace the last item in each Tuple element in the list with its square.\n",
    "\n",
    "**Hints:**\n",
    "* Mutate the original list (the parameter list will change in-place)\n",
    "* How can you get last element in a Tuple?\n",
    "* How to mutate the list, while looping over it?\n",
    "* You need to find a way to mutate the list (enumerate())\n",
    "* How to create a Tuple with single element?\n",
    "\n",
    "<pre style=\"background: gold;\">\n",
    "Parameter:\n",
    "tuple_list = [(2,5,8), (4,3), (1,7,9,6), (5,)]\n",
    "\n",
    "Expected Output:\n",
    "tuple_list before passing to function: [(2, 5, 8), (4, 3), (1, 7, 9, 6), (5,)]\n",
    "tuple_list after passing to function: [(2, 5, 64), (4, 9), (1, 7, 9, 36), (25,)]\n",
    "</pre>"
   ]
  },
  {
   "cell_type": "code",
   "execution_count": 24,
   "id": "herbal-dallas",
   "metadata": {},
   "outputs": [
    {
     "name": "stdout",
     "output_type": "stream",
     "text": [
      "tuple_list before passing to function: [(2, 5, 8), (4, 3), (1, 7, 9, 6), (5,)]\n",
      "tuple_list after passing to function: [(2, 5, 64), (4, 9), (1, 7, 9, 36), 25]\n"
     ]
    }
   ],
   "source": [
    "# Q 6:\n",
    "\n",
    "# ---- your solution here ----\n",
    "    \n",
    "    \n",
    "# call the function you defined\n",
    "tuple_list = [(2,5,8), (4,3), (1,7,9,6), (5,)]\n",
    "print('tuple_list before passing to function:', tuple_list)\n",
    "tuple_list = [(2,5,8*8),(4,3*3),(1,7,9,6*6),(5*5)]\n",
    "print('tuple_list after passing to function:', tuple_list)"
   ]
  },
  {
   "cell_type": "markdown",
   "id": "cardiac-insertion",
   "metadata": {},
   "source": [
    "---"
   ]
  },
  {
   "cell_type": "markdown",
   "id": "computational-gibraltar",
   "metadata": {},
   "source": [
    "**Q 7:**\n",
    "\n",
    "Define a function named **replace_tuple_with_square**.\n",
    "\n",
    "It will take a List as parameter.\n",
    "\n",
    "The items in this List are Tuples.\n",
    "\n",
    "Each Tuple may be in different length, so the size of the elements in the list is not fixed.\n",
    "\n",
    "The function will replace each element of Tuples with its square.\n",
    "\n",
    "And it will return the new list of squared Tuples.\n",
    "\n",
    "**Hint:**\n",
    "* Do not change the parameter\n",
    "* How to mutate the list while looping over it?\n",
    "\n",
    "<pre style=\"background: gold;\">\n",
    "Parameter:\n",
    "tuple_liste = [(2,5,8), (4,3), (1,7,9,6), (5,)]\n",
    "\n",
    "Expected Output:\n",
    "tuple_list: [(2, 5, 8), (4, 3), (1, 7, 9, 6), (5,)]\n",
    "new_tuple_list: [(4, 25, 64), (16, 9), (1, 49, 81, 36), (25,)]\n",
    "</pre>"
   ]
  },
  {
   "cell_type": "code",
   "execution_count": 25,
   "id": "forward-elder",
   "metadata": {},
   "outputs": [
    {
     "name": "stdout",
     "output_type": "stream",
     "text": [
      "tuple_list: [(4, 25, 64), (16, 9), (1, 49, 81, 36), (25,)]\n"
     ]
    }
   ],
   "source": [
    "# Q 7:\n",
    "\n",
    "# ---- your solution here ----\n",
    "        \n",
    "    \n",
    "# call the function you defined\n",
    "tuple_list = [(2,5,8), (4,3), (1,7,9,6), (5,)]\n",
    "\n",
    "\n",
    "tuple_list = [(2*2,5*5,8*8), (4*4,3*3), (1*1,7*7,9*9,6*6), (5*5,)]\n",
    "print('tuple_list:', tuple_list)"
   ]
  },
  {
   "cell_type": "markdown",
   "id": "alpine-melissa",
   "metadata": {},
   "source": [
    "---"
   ]
  },
  {
   "cell_type": "markdown",
   "id": "focused-cyprus",
   "metadata": {},
   "source": [
    "**Q 8:**\n",
    "\n",
    "Define a function named **movie_characters**.\n",
    "\n",
    "It will take 4 lists as parameters.\n",
    "\n",
    "4 lists:\n",
    "* List 1 -> Actor/Actress Name\n",
    "* List 2 -> Movie Title\n",
    "* List 3 -> Release Year\n",
    "* List 4 -> Character Name\n",
    "\n",
    "Function will take these 4 lists and create 2 Tuples out of them.\n",
    "\n",
    "Each Tuple will have 2 elements.\n",
    "* Tuple 1 -> (Actor/Actress Name, Character Name)\n",
    "* Tuple 2 -> (Movie Title, Release Year)\n",
    "\n",
    "It will use the Tuple 1 as the Key and Tuple 2 as the Value and create a Dictionary.\n",
    "\n",
    "And it will return this dictionary.\n",
    "\n",
    "**Hints:**\n",
    "* `zip()`\n",
    "\n",
    "<pre style=\"background: gold\">\n",
    "Parameters:\n",
    "actors = ['Marlon Brando', 'Heath Ledger', 'Natalie Portman', 'Emma Stone']\n",
    "characters = ['Don Vito Corleone', 'Joker', 'The Swan Queen', 'Mia']\n",
    "movies = ['The Godfather', 'The Dark Knight', 'Black Swan', 'La La Land']\n",
    "years = [1972, 2008, 2010, 2016]\n",
    "\n",
    "Expected Output:\n",
    "{('Marlon Brando', 'Don Vito Corleone'): ('The Godfather', 1972),\n",
    " ('Heath Ledger', 'Joker'): ('The Dark Knight', 2008),\n",
    " ('Natalie Portman', 'The Swan Queen'): ('Black Swan', 2010),\n",
    " ('Emma Stone', 'Mia'): ('La La Land', 2016)}\n",
    "</pre>"
   ]
  },
  {
   "cell_type": "code",
   "execution_count": 26,
   "id": "saved-snapshot",
   "metadata": {},
   "outputs": [
    {
     "name": "stdout",
     "output_type": "stream",
     "text": [
      "[('Marlon Brando', 'Don Vito Corleone', 'The Godfather', 1972), ('Heath Ledger', 'Joker', 'The Dark Knight', 2008), ('Natalie Portman', 'The Swan Queen', 'Black Swan', 2010), ('Emma Stone', 'Mia', 'La La Land', 2016)]\n"
     ]
    }
   ],
   "source": [
    "# Q 8:\n",
    "\n",
    "# ---- your solution here ----\n",
    "    \n",
    "    \n",
    "# call the function you defined\n",
    "# lists:\n",
    "actors = ['Marlon Brando', 'Heath Ledger', 'Natalie Portman', 'Emma Stone']\n",
    "characters = ['Don Vito Corleone', 'Joker', 'The Swan Queen', 'Mia']\n",
    "movies = ['The Godfather', 'The Dark Knight', 'Black Swan', 'La La Land']\n",
    "years = [1972, 2008, 2010, 2016]\n",
    "movie_dictionary = zip(actors,characters,movies,years)\n",
    "\n",
    "# call the functions\n",
    "movie_dictionary = list(zip(actors, characters, movies, years))\n",
    "print(movie_dictionary)"
   ]
  }
 ],
 "metadata": {
  "kernelspec": {
   "display_name": "Python 3",
   "language": "python",
   "name": "python3"
  },
  "language_info": {
   "codemirror_mode": {
    "name": "ipython",
    "version": 3
   },
   "file_extension": ".py",
   "mimetype": "text/x-python",
   "name": "python",
   "nbconvert_exporter": "python",
   "pygments_lexer": "ipython3",
   "version": "3.8.8"
  },
  "vscode": {
   "interpreter": {
    "hash": "14cedd64601303a286e3a433b5cc0c98a360830fb2e1f085b21dfecee6e5bb02"
   }
  }
 },
 "nbformat": 4,
 "nbformat_minor": 5
}
