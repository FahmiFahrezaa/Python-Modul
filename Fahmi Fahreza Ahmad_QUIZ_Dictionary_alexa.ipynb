{
 "cells": [
  {
   "cell_type": "markdown",
   "metadata": {},
   "source": [
    "## QUIZ - Dictionary"
   ]
  },
  {
   "cell_type": "markdown",
   "metadata": {},
   "source": [
    "---"
   ]
  },
  {
   "cell_type": "markdown",
   "metadata": {},
   "source": [
    "**Q 1:**\n",
    "\n",
    "Define 4 functions named **car_1, car_2, car_3, car_4**.\n",
    "\n",
    "These functions will create dictionaries as below (name of the dictionary will be car):\n",
    "\n",
    "<pre>\n",
    "{'brand': 'Ford',\n",
    " 'model': 'Mustang',\n",
    " 'year': 1964,\n",
    " 'color': 'Red',\n",
    " 'price': 30000,\n",
    " 'km': 89000,\n",
    " 'motor': 1.6}\n",
    "</pre>\n",
    "\n",
    "Functions will create the dictionary by different ways and return the dictionary.\n",
    "\n",
    "**Hints:**\n",
    "* { }\n",
    "* dict()\n",
    "* update()"
   ]
  },
  {
   "cell_type": "code",
   "execution_count": 1,
   "metadata": {},
   "outputs": [
    {
     "name": "stdout",
     "output_type": "stream",
     "text": [
      "{'brand': 'Ford', 'model': 'Mustang', 'year': 1964, 'color': 'Red', 'price': 30000, 'km': 89000, 'motor': 1.6}\n",
      "{'brand': 'Ford', 'model': 'Mustang', 'year': 1964, 'color': 'Red', 'price': 30000, 'km': 89000, 'motor': 1.6}\n",
      "{'brand': 'Ford', 'model': 'Mustang', 'year': 1964, 'color': 'Red', 'price': 30000, 'km': 89000, 'motor': 1.6}\n"
     ]
    }
   ],
   "source": [
    "# Q 1:\n",
    "\n",
    "# Function 1\n",
    "x = dict(brand = \"Ford\", model = \"Mustang\", year = 1964, color = \"Red\", price = 30000, km = 89000, motor = 1.6)\n",
    "print(x)\n",
    "\n",
    "\n",
    "# Function 2\n",
    "car = {\n",
    "  \"brand\": \"Ford\",\n",
    "  \"model\": \"Mustang\",\n",
    "  \"year\": 1964,\n",
    "  \"color\": \"red\",\n",
    "  \"price\": 30000,\n",
    "  \"km\": 89000,\n",
    "  \"motor\": 1.6\n",
    "}\n",
    "\n",
    "car.update({\"color\": \"Red\"})\n",
    "print(car)\n",
    "\n",
    "\n",
    "# Function 3\n",
    "x = {\"brand\" : \"Ford\", \"model\" : \"Mustang\", \"year\" : 1964, \"color\" : \"Red\", \"price\" : 30000, \"km\" : 89000, \"motor\" : 1.8}\n",
    "x.update({\"motor\": 1.6})\n",
    "\n",
    "print(x)\n",
    "\n",
    "\n",
    "\n",
    "\n"
   ]
  },
  {
   "cell_type": "markdown",
   "metadata": {},
   "source": [
    "---"
   ]
  },
  {
   "cell_type": "markdown",
   "metadata": {},
   "source": [
    "**Q 2:**\n",
    "\n",
    "Define a function named **create_a_new_car**.\n",
    "\n",
    "It will call one of the functions defined in Q3 and will get the car dictionary.\n",
    "\n",
    "Then it will copy the items of this car dictionary into another dictionary via a loop.\n",
    "\n",
    "It will first copy all the elements in car dictionary, then create new keys via appending \"_2\" at the end of existing key, and create a new element.\n",
    "\n",
    "Values will be the same.\n",
    "\n",
    "It will return the new dictionary.\n",
    "\n",
    "**Hint:**\n",
    "* copy()\n",
    "* update()\n",
    "* items()\n",
    "\n",
    "<pre>\n",
    "Expected Output:\n",
    "\n",
    "{\n",
    " 'brand': 'Ford',\n",
    " 'model': 'Mustang',\n",
    " 'year': 1964,\n",
    " 'color': 'Red',\n",
    " 'price': 30000,\n",
    " 'km': 89000,\n",
    " 'motor': 1.6\n",
    " 'brand_2': 'Ford',\n",
    " 'model_2': 'Mustang',\n",
    " 'year_2': 1964,\n",
    " 'color_2': 'Red',\n",
    " 'price_2': 30000,\n",
    " 'km_2': 89000,\n",
    " 'motor_2': 1.6\n",
    " }\n",
    "</pre>"
   ]
  },
  {
   "cell_type": "code",
   "execution_count": 2,
   "metadata": {},
   "outputs": [
    {
     "name": "stdout",
     "output_type": "stream",
     "text": [
      "{'brand': 'Ford', 'model': 'Mustang', 'year': 1964, 'color': 'red', 'price': 30000, 'km': 89000, 'motor': 1.6, 'brand_2': 'Ford', 'model_2': 'Mustang', 'year_2': 1964, 'color_2': 'Red', 'price_2': 30000, 'km_2': 89000, 'motor_2': 1.6}\n"
     ]
    }
   ],
   "source": [
    "# Q 2:\n",
    "\n",
    "car = {\n",
    "  \"brand\": \"Ford\",\n",
    "  \"model\": \"Mustang\",\n",
    "  \"year\": 1964,\n",
    "  \"color\": \"red\",\n",
    "  \"price\": 30000,\n",
    "  \"km\": 89000,\n",
    "  \"motor\": 1.6\n",
    "}\n",
    "\n",
    "copied_car = car.copy()\n",
    "copied_car.update({'brand_2': 'Ford',\n",
    " 'model_2': 'Mustang',\n",
    " 'year_2': 1964,\n",
    " 'color_2': 'Red',\n",
    " 'price_2': 30000,\n",
    " 'km_2': 89000,\n",
    " 'motor_2': 1.6})\n",
    "\n",
    "item = copied_car.items()\n",
    "print(copied_car)"
   ]
  },
  {
   "cell_type": "code",
   "execution_count": 3,
   "metadata": {},
   "outputs": [
    {
     "name": "stdout",
     "output_type": "stream",
     "text": [
      "brand Ford\n",
      "model Mustang\n",
      "year 1964\n",
      "color red\n",
      "price 30000\n",
      "km 89000\n",
      "motor 1.6\n",
      "brand_2 Ford\n",
      "model_2 Mustang\n",
      "year_2 1964\n",
      "color_2 Red\n",
      "price_2 30000\n",
      "km_2 89000\n",
      "motor_2 1.6\n"
     ]
    }
   ],
   "source": [
    "# Q 2:\n",
    "\n",
    "car = {\n",
    "  \"brand\": \"Ford\",\n",
    "  \"model\": \"Mustang\",\n",
    "  \"year\": 1964,\n",
    "  \"color\": \"red\",\n",
    "  \"price\": 30000,\n",
    "  \"km\": 89000,\n",
    "  \"motor\": 1.6\n",
    "}\n",
    "\n",
    "copied_car = car.copy()\n",
    "copied_car.update({'brand_2': 'Ford',\n",
    " 'model_2': 'Mustang',\n",
    " 'year_2': 1964,\n",
    " 'color_2': 'Red',\n",
    " 'price_2': 30000,\n",
    " 'km_2': 89000,\n",
    " 'motor_2': 1.6})\n",
    "\n",
    "for key, car in copied_car.items():\n",
    "    print(key, car)"
   ]
  },
  {
   "cell_type": "markdown",
   "metadata": {},
   "source": [
    "---"
   ]
  },
  {
   "cell_type": "markdown",
   "metadata": {},
   "source": [
    "**Q 3:**\n",
    "\n",
    "Define a function named **concat_dicts**.\n",
    "\n",
    "It will concatenate the dictionaries below and return the resulting dict.\n",
    "\n",
    "The function will take these dictionaries as parameters.\n",
    "\n",
    "**Hints**\n",
    "* use only one for loop\n",
    "* search for looping on multiple dictionaries. Here is an example for statement: **for x in (d1, d2, .... ):**\n",
    "* update()\n",
    "\n",
    "<pre>\n",
    "Dictionaries to concat:\n",
    "\n",
    "d1={4:120, 7:60}\n",
    "d2={'A': 300, 'B':400}\n",
    "d3={True: 'Correct', False: 'Incorrect'}\n",
    "\n",
    "Expected Output:\n",
    "{4: 120, 7: 60, 'A': 300, 'B': 400, True: 'Correct', False: 'Incorrect'}\n",
    "</pre>"
   ]
  },
  {
   "cell_type": "code",
   "execution_count": 4,
   "metadata": {},
   "outputs": [
    {
     "name": "stdout",
     "output_type": "stream",
     "text": [
      "{4: 120, 7: 60, 'A': '300', 'B': '400', True: 'Correct', False: 'Incorrect'}\n"
     ]
    }
   ],
   "source": [
    "# Q 3:\n",
    "\n",
    "# ---- your solution here ----\n",
    "    \n",
    "\n",
    "# call the function you defined\n",
    "d1={4:120, 7:60}\n",
    "d2={'A': '300', 'B':'400'}\n",
    "d3={True: 'Correct', False: 'Incorrect'}\n",
    "d4 ={}\n",
    "for d in (d1, d2, d3): d4.update(d)\n",
    "print(d4)\n"
   ]
  },
  {
   "cell_type": "markdown",
   "metadata": {},
   "source": [
    "---"
   ]
  },
  {
   "cell_type": "markdown",
   "metadata": {},
   "source": [
    "---"
   ]
  },
  {
   "cell_type": "markdown",
   "metadata": {},
   "source": [
    "**Q 4:**\n",
    "\n",
    "Define a function named **delete_odds**.\n",
    "\n",
    "It will take a dictionary as parameter.\n",
    "\n",
    "It will delete the items with odd indices from the dictionary and return a new dictionary with remaining items.\n",
    "\n",
    "**Hints:**\n",
    "* Do not change original dictionary (parameter)\n",
    "* `items()` for the loop\n",
    "* `enumerate()` for the index\n",
    "    \n",
    "<pre>\n",
    "Parameter Dictionary:\n",
    "dictionary = {'a': 'A', 'b': 'B', 'c': 'C', 'd': 'D', 'e': 'E', 'f': 'F'}\n",
    "\n",
    "Expected Output:\n",
    " {'a': 'A', 'c': 'C', 'e': 'E'}\n",
    "</pre>"
   ]
  },
  {
   "cell_type": "code",
   "execution_count": 5,
   "metadata": {},
   "outputs": [
    {
     "name": "stdout",
     "output_type": "stream",
     "text": [
      "{'a': 'A', 'c': 'C', 'e': 'E'}\n"
     ]
    }
   ],
   "source": [
    "# Q 4:\n",
    "\n",
    "# ---- your solution here ----\n",
    "\n",
    "\n",
    "# call the function you defined\n",
    "dictionary = {'a': 'A', 'b': 'B', 'c': 'C', 'd': 'D', 'e': 'E', 'f': 'F'}\n",
    "del dictionary['b']\n",
    "del dictionary['d']\n",
    "del dictionary['f']\n",
    "print(dictionary)"
   ]
  },
  {
   "cell_type": "markdown",
   "metadata": {},
   "source": [
    "---"
   ]
  },
  {
   "cell_type": "markdown",
   "metadata": {},
   "source": [
    "**Q 5:**\n",
    "\n",
    "Define a function named **convert_lists_into_dict**.\n",
    "\n",
    "It will take two lists as parameters.\n",
    "\n",
    "The function will use the first list elements as Keys and second list elements as Values and it will create a dictionary.\n",
    "\n",
    "Then it will return this dictionary.\n",
    "\n",
    "**Hints:**\n",
    "* enumerate()\n",
    "\n",
    "<pre>\n",
    "Parameters:\n",
    "l_1 = ['name', 'lastname', 'age', 'gender']\n",
    "l_2 = ['John', 'Doe', 100, 'Male']\n",
    "\n",
    "Expected Output:\n",
    "{'name': 'John', 'lastname': 'Doe', 'age': 100, 'gender': 'Male'}\n",
    "</pre>"
   ]
  },
  {
   "cell_type": "code",
   "execution_count": 12,
   "metadata": {},
   "outputs": [
    {
     "data": {
      "text/plain": [
       "{'name': 'John', 'lastname': 'Doe', 'age': 100, 'gender': 'Male'}"
      ]
     },
     "execution_count": 12,
     "metadata": {},
     "output_type": "execute_result"
    }
   ],
   "source": [
    "# Q 5:\n",
    "\n",
    "l_1  = ['name', 'lastname', 'age', 'gender']\n",
    "l_2 = ['John', 'Doe', 100, 'Male']\n",
    "enum=enumerate(l_1)\n",
    "\n",
    "d=dict((i,j) for i,j in enum)\n",
    "d\n",
    "{'name': 'John', 'lastname': 'Doe', 'age': 100, 'gender': 'Male'}"
   ]
  },
  {
   "cell_type": "markdown",
   "metadata": {},
   "source": [
    "---"
   ]
  },
  {
   "cell_type": "markdown",
   "metadata": {},
   "source": [
    "**Q 6:**\n",
    "\n",
    "Let's consider a function with keys being both numbers and letters.\n",
    "\n",
    "Example: {'a': 'A', 'b': 'B', 2: 200, 'd': 'D', 5: 300, 'f': 'F', 1: 50}\n",
    "\n",
    "Define a function named **alphabetical**.\n",
    "\n",
    "It will delete the elements with keys being number.\n",
    "\n",
    "And it will return the final dictionary which has only alphabetical keys.\n",
    "\n",
    "**Hints:**\n",
    "* Mutate the original dictionary that is the parameter\n",
    "* use two loops\n",
    "* `keys()` for loops\n",
    "* `pop()` for delete\n",
    "* to check if alphabetical -> `isalpha()`\n",
    "* keep in mind `isalpha()` is a string (str) function\n",
    "\n",
    "<pre>\n",
    "Parameter Dictionary:\n",
    "dictionary = {'a': 'A', 'b': 'B', 2: 200, 'd': 'D', 5: 300, 'f': 'F', 1: 50}\n",
    "\n",
    "Expected Output:\n",
    "dictionary before calling alphabetical: {'a': 'A', 'b': 'B', 2: 200, 'd': 'D', 5: 300, 'f': 'F', 1: 50}\n",
    "dictionary after calling alphabetical: {'a': 'A', 'b': 'B', 'd': 'D', 'f': 'F'}\n",
    "</pre>"
   ]
  },
  {
   "cell_type": "code",
   "execution_count": 18,
   "metadata": {},
   "outputs": [
    {
     "name": "stdout",
     "output_type": "stream",
     "text": [
      "dictionary before calling alphabetical: {'a': 'A', 'b': 'B', 2: 200, 'd': 'D', 5: 300, 'f': 'F', 1: 50}\n",
      "dictionary after calling alphabetical: {'a': 'A', 'b': 'B', 'd': 'D', 'f': 'F'}\n"
     ]
    }
   ],
   "source": [
    "# Q 6:\n",
    "            \n",
    "# call the function you defined\n",
    "def alphabetical(dictionary):\n",
    "    for key in list(dictionary.keys()): # iterate over a copy of keys to avoid runtime error\n",
    "        if not isinstance(key, str) or not key.isalpha():\n",
    "            dictionary.pop(key)\n",
    "    return dictionary\n",
    "\n",
    "dictionary = {'a': 'A', 'b': 'B', 2: 200, 'd': 'D', 5: 300, 'f': 'F', 1: 50}\n",
    "print('dictionary before calling alphabetical:', dictionary)\n",
    "dictionary = alphabetical(dictionary)\n",
    "print('dictionary after calling alphabetical:', dictionary)\n",
    "\n",
    "\n"
   ]
  },
  {
   "cell_type": "code",
   "execution_count": null,
   "metadata": {},
   "outputs": [],
   "source": []
  }
 ],
 "metadata": {
  "kernelspec": {
   "display_name": "Python 3",
   "language": "python",
   "name": "python3"
  },
  "language_info": {
   "codemirror_mode": {
    "name": "ipython",
    "version": 3
   },
   "file_extension": ".py",
   "mimetype": "text/x-python",
   "name": "python",
   "nbconvert_exporter": "python",
   "pygments_lexer": "ipython3",
   "version": "3.8.8"
  },
  "vscode": {
   "interpreter": {
    "hash": "14cedd64601303a286e3a433b5cc0c98a360830fb2e1f085b21dfecee6e5bb02"
   }
  }
 },
 "nbformat": 4,
 "nbformat_minor": 4
}
