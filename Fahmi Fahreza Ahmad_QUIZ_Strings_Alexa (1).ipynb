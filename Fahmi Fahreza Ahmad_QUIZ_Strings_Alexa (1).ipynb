{
 "cells": [
  {
   "cell_type": "markdown",
   "id": "governmental-hacker",
   "metadata": {},
   "source": [
    "## QUIZ - Strings"
   ]
  },
  {
   "cell_type": "markdown",
   "id": "checked-sauce",
   "metadata": {},
   "source": [
    "**Q 1:**\n",
    "\n",
    "Define a function named **only_first_letters**.\n",
    "\n",
    "It will take a string as the parameter.\n",
    "\n",
    "And it will convert all the first letters of each word into upper case.\n",
    "\n",
    "All the remaining letter will be lower case."
   ]
  },
  {
   "cell_type": "code",
   "execution_count": 1,
   "id": "sonic-touch",
   "metadata": {},
   "outputs": [
    {
     "name": "stdout",
     "output_type": "stream",
     "text": [
      "Python Is Great\n"
     ]
    }
   ],
   "source": [
    "# Q 1:\n",
    "\n",
    "# ---- your solution here ----\n",
    "def only_first_letters(input_string):\n",
    "    return input_string.title()\n",
    "\n",
    "# call the function you defined\n",
    "proper_text = only_first_letters('pyThon iS grEAt')\n",
    "print(proper_text)"
   ]
  },
  {
   "cell_type": "markdown",
   "id": "experimental-wrist",
   "metadata": {},
   "source": [
    "---"
   ]
  },
  {
   "cell_type": "markdown",
   "id": "checked-peninsula",
   "metadata": {},
   "source": [
    "**Q 2:**\n",
    "\n",
    "Define a function taking a text and a letter as parameters.\n",
    "\n",
    "The function name will be **count_the_letter**.\n",
    "\n",
    "Function will return the number (count) of occurrences of the letter in the text.\n",
    "\n",
    "**Hints:**\n",
    "* use built-in function\n",
    "* your function body should be one line of code\n",
    "* https://docs.python.org/3/library/stdtypes.html#string-methods"
   ]
  },
  {
   "cell_type": "code",
   "execution_count": 3,
   "id": "naughty-grenada",
   "metadata": {},
   "outputs": [
    {
     "name": "stdout",
     "output_type": "stream",
     "text": [
      "Please enter a text: pusatdunia\n",
      "Now a letter: pusatsemesta\n",
      "The letter 'pusatsemesta' appears 0 times in the text 'pusatdunia'.\n",
      "0\n"
     ]
    }
   ],
   "source": [
    "# Q 2:\n",
    "\n",
    "# ---- your solution here ----\n",
    "def count_the_letter(text, letter):\n",
    "    return text.count(letter)\n",
    "\n",
    "text = input('Please enter a text: ')\n",
    "letter = input('Now a letter: ')\n",
    "count = count_the_letter(text, letter)\n",
    "print(f\"The letter '{letter}' appears {count} times in the text '{text}'.\")\n",
    "print(count)\n"
   ]
  },
  {
   "cell_type": "markdown",
   "id": "adaptive-niger",
   "metadata": {},
   "source": [
    "---"
   ]
  },
  {
   "cell_type": "markdown",
   "id": "noted-instruction",
   "metadata": {},
   "source": [
    "**Q 3:**\n",
    "\n",
    "Define a function named **count_letters**.\n",
    "\n",
    "It will ask for sentence from the user.\n",
    "\n",
    "And it will count the occurrences of each letter and print it.\n",
    "\n",
    "**Hints:**\n",
    "* Do not count space character\n",
    "* Use the function you defined in Q2.\n",
    "\n",
    "<pre>\n",
    "Expected Output:\n",
    "\n",
    "Please enter a sentence:  pandas\n",
    "letter p: 1 time(s)\n",
    "letter a: 2 time(s)\n",
    "letter n: 1 time(s)\n",
    "letter d: 1 time(s)\n",
    "letter s: 1 time(s)\n",
    "</pre>"
   ]
  },
  {
   "cell_type": "code",
   "execution_count": 3,
   "id": "final-decision",
   "metadata": {},
   "outputs": [
    {
     "name": "stdout",
     "output_type": "stream",
     "text": [
      "Please enter a sentence: ncwejc'jd\n",
      "letter n: 1 time(s)\n",
      "letter c: 2 time(s)\n",
      "letter w: 1 time(s)\n",
      "letter e: 1 time(s)\n",
      "letter j: 2 time(s)\n",
      "letter ': 1 time(s)\n",
      "letter d: 1 time(s)\n"
     ]
    }
   ],
   "source": [
    "def count_letters():\n",
    "    sentence = input(\"Please enter a sentence: \")\n",
    "    letter_count = {}\n",
    "    for letter in sentence:\n",
    "        if letter != ' ':\n",
    "            count = sentence.count(letter)\n",
    "            letter_count[letter] = count\n",
    "    for letter, count in letter_count.items():\n",
    "        print(f\"letter {letter}: {count} time(s)\")\n",
    "\n",
    "count_letters()\n"
   ]
  },
  {
   "cell_type": "markdown",
   "id": "optional-pocket",
   "metadata": {},
   "source": [
    "---"
   ]
  },
  {
   "cell_type": "markdown",
   "id": "heated-falls",
   "metadata": {},
   "source": [
    "**Q 4:**\n",
    "\n",
    "Your text is:\n",
    "\n",
    "'Monday Tuesday Wednesday Thursday Friday'.\n",
    "\n",
    "Do slicing operations on this text and answer the following questions:\n",
    "\n",
    "<pre>\n",
    "* find the first 3 chars\n",
    "* find the chars between index 7 and 10 (inc.)\n",
    "* find the chars between index 2 and 12 (exc.)\n",
    "* find the chars at indices 3, 4 and 5\n",
    "</pre>"
   ]
  },
  {
   "cell_type": "code",
   "execution_count": 4,
   "id": "eligible-supervisor",
   "metadata": {},
   "outputs": [
    {
     "name": "stdout",
     "output_type": "stream",
     "text": [
      "Mon\n",
      "Tues\n",
      "nday Tuesd\n",
      "day\n"
     ]
    }
   ],
   "source": [
    "# Q 4:\n",
    "\n",
    "text = 'Monday Tuesday Wednesday Thursday Friday'\n",
    "text = 'Monday Tuesday Wednesday Thursday Friday'\n",
    "first_three = text[:3]\n",
    "print(first_three)  \n",
    "between_7_10 = text[7:11]\n",
    "print(between_7_10) \n",
    "between_2_12 = text[2:12]\n",
    "print(between_2_12)  \n",
    "chars_3_4_5 = text[3:6]\n",
    "print(chars_3_4_5)  \n"
   ]
  },
  {
   "cell_type": "markdown",
   "id": "viral-federal",
   "metadata": {},
   "source": [
    "---"
   ]
  },
  {
   "cell_type": "markdown",
   "id": "empty-notification",
   "metadata": {},
   "source": [
    "**Q 5:**\n",
    "\n",
    "Your text:\n",
    "\n",
    "'Monday Tuesday Wednesday'\n",
    "\n",
    "Do slicing operations on this text and answer the following questions:\n",
    "\n",
    "<pre>\n",
    "* find the last character\n",
    "* find the 3rd character from last\n",
    "* find last 3 characters\n",
    "* print the text in reverse order\n",
    "</pre>"
   ]
  },
  {
   "cell_type": "code",
   "execution_count": 5,
   "id": "hollywood-balloon",
   "metadata": {},
   "outputs": [
    {
     "name": "stdout",
     "output_type": "stream",
     "text": [
      "y\n",
      "d\n",
      "day\n",
      "yadsendeW yadseuT yadnoM\n"
     ]
    }
   ],
   "source": [
    "# Q 5:\n",
    "\n",
    "\n",
    "text = 'Monday Tuesday Wednesday'\n",
    "\n",
    "last_char = text[-1]\n",
    "print(last_char) \n",
    "\n",
    "third_from_last = text[-3]\n",
    "print(third_from_last)\n",
    "\n",
    "last_three_chars = text[-3:]\n",
    "print(last_three_chars) \n",
    "\n",
    "reverse_text = text[::-1]\n",
    "print(reverse_text)\n"
   ]
  },
  {
   "cell_type": "markdown",
   "id": "large-discretion",
   "metadata": {},
   "source": [
    "---"
   ]
  },
  {
   "cell_type": "markdown",
   "id": "final-treaty",
   "metadata": {},
   "source": [
    "**Q 6:**\n",
    "\n",
    "Define a function named **split_email**.\n",
    "\n",
    "It will ask for an email from the user.\n",
    "\n",
    "And it will split the email into user name and domain name using **index**.\n",
    "\n",
    "**Hints:**\n",
    "* if the input doesn't include '@' char, return a text as 'Invalid email format.'\n",
    "\n",
    "<pre>\n",
    "Expected output:\n",
    "\n",
    "Please enter an email:  abc@acme.corp\n",
    "User Name: abc\n",
    "Domain: acme.corp\n",
    "</pre>"
   ]
  },
  {
   "cell_type": "code",
   "execution_count": 4,
   "id": "thrown-guitar",
   "metadata": {},
   "outputs": [
    {
     "name": "stdout",
     "output_type": "stream",
     "text": [
      "Please enter an email: aezakme@gmail.com\n",
      "User Name: aezakme\n",
      "Domain: gmail.com\n"
     ]
    }
   ],
   "source": [
    "# Q 6:\n",
    "email = input(\"Please enter an email: \")\n",
    "if '@' not in email:\n",
    "        print('Invalid email format.')\n",
    "else:\n",
    "        split_index = email.index('@')\n",
    "        username = email[:split_index]\n",
    "        domain = email[split_index + 1:]\n",
    "        print(\"User Name:\", username)\n",
    "        print(\"Domain:\", domain)"
   ]
  },
  {
   "cell_type": "markdown",
   "id": "lonely-vietnam",
   "metadata": {},
   "source": [
    "**Q 7:**\n",
    "\n",
    "Define a function named **reverse**.\n",
    "\n",
    "It will ask for a sentence from the user and return the reverse of this sentence.\n",
    "\n",
    "<pre>\n",
    "Expected Output:\n",
    "\n",
    "Please enter a sentence:  yesterday came suddenly\n",
    "'ylneddus emac yadretsey\n",
    "</pre>"
   ]
  },
  {
   "cell_type": "code",
   "execution_count": 5,
   "id": "parliamentary-grain",
   "metadata": {},
   "outputs": [
    {
     "name": "stdout",
     "output_type": "stream",
     "text": [
      "Please enter a sentence: your classy cleo\n",
      "oelc yssalc ruoy\n"
     ]
    }
   ],
   "source": [
    "# Q 7:\n",
    "\n",
    "# ---- your solution here ----\n",
    "def reverse(sentence):\n",
    "    return sentence[::-1]\n",
    "\n",
    "\n",
    "# call the function you defined\n",
    "text = input('Please enter a sentence: ')\n",
    "reversed_text = reverse(text)\n",
    "print(reversed_text)"
   ]
  },
  {
   "cell_type": "markdown",
   "id": "affiliated-pizza",
   "metadata": {},
   "source": [
    "---"
   ]
  }
 ],
 "metadata": {
  "kernelspec": {
   "display_name": "Python 3",
   "language": "python",
   "name": "python3"
  },
  "language_info": {
   "codemirror_mode": {
    "name": "ipython",
    "version": 3
   },
   "file_extension": ".py",
   "mimetype": "text/x-python",
   "name": "python",
   "nbconvert_exporter": "python",
   "pygments_lexer": "ipython3",
   "version": "3.8.8"
  },
  "vscode": {
   "interpreter": {
    "hash": "14cedd64601303a286e3a433b5cc0c98a360830fb2e1f085b21dfecee6e5bb02"
   }
  }
 },
 "nbformat": 4,
 "nbformat_minor": 5
}
