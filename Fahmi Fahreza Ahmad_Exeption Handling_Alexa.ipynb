{
 "cells": [
  {
   "cell_type": "markdown",
   "id": "f808232e",
   "metadata": {},
   "source": [
    "# \n",
    "# Q 1:\n",
    "\"\"\"\n",
    "Define a function named 'sum_of_list'.\n",
    "It will take a list as parameter and calculate the sum of numbers in this list.\n",
    "\n",
    "If it encounters an error during summation, it will raise an Exception.\n",
    "Otherwise, it will return the summation.\n",
    "\n",
    "The exception type will be 'TypeError' and the text will be the standard error text.\n",
    "\n",
    "Hints:\n",
    "* try-except\n",
    "* except .... as ....\n",
    "\"\"\"\n",
    "\n"
   ]
  },
  {
   "cell_type": "code",
   "execution_count": 11,
   "id": "71ce3720",
   "metadata": {},
   "outputs": [
    {
     "name": "stdout",
     "output_type": "stream",
     "text": [
      "Error: unsupported operand type(s) for +: 'int' and 'str'\n"
     ]
    }
   ],
   "source": [
    "def sum_of_list(lst):\n",
    "    try:\n",
    "        total = sum(lst)\n",
    "        return total\n",
    "    except TypeError as e:\n",
    "        raise Exception(str(e))\n",
    "\n",
    "lst = [1, 'b', 3]\n",
    "try:\n",
    "    total = sum_of_list(lst)\n",
    "    print(total)\n",
    "except Exception as e:\n",
    "    print(f\"Error: {str(e)}\")\n"
   ]
  },
  {
   "cell_type": "code",
   "execution_count": null,
   "id": "f542322c",
   "metadata": {},
   "outputs": [],
   "source": [
    "\n"
   ]
  },
  {
   "cell_type": "markdown",
   "id": "2fa47ddd",
   "metadata": {},
   "source": [
    "# Q 2:\n",
    "\"\"\"\n",
    "Below, you see a function named \"total_likes\".\n",
    "This function creates a dictionary of reviews.\n",
    "And it returns total number of likes in this dictionary.\n",
    "\n",
    "But there is a problem.\n",
    "If you run the function as it is currently, you will see it raises an exception.\n",
    "\n",
    "Fix this bug in the function by using try-except-else structure.\n",
    "\n",
    "Hints:\n",
    "* examine each review carefully :)\n",
    "\n",
    "\n",
    "def total_likes():\n",
    "    reviews = [{'Image': 4, 'Like': 20, 'Comment': 12},\n",
    "               {'Like': 15, 'Comment': 8, 'Share': 10},\n",
    "               {'Image': 7, 'Comment': 16, 'Share': 37},\n",
    "               {'Image': 6, 'Like': 10, 'Comment': 9}]\n",
    "\n",
    "    total = 0\n",
    "\n",
    "    for review in reviews:\n",
    "        total += review['Like']\n",
    "\n",
    "    return total\n",
    "\n",
    "total_number_of_likes = total_likes()\n",
    "print(total_number_of_likes)\n",
    "\"\"\"\n",
    "\n"
   ]
  },
  {
   "cell_type": "code",
   "execution_count": 12,
   "id": "e5aaf49a",
   "metadata": {},
   "outputs": [
    {
     "name": "stdout",
     "output_type": "stream",
     "text": [
      "Found 20 likes in review: {'Image': 4, 'Like': 20, 'Comment': 12}\n",
      "Found 15 likes in review: {'Like': 15, 'Comment': 8, 'Share': 10}\n",
      "Found 10 likes in review: {'Image': 6, 'Like': 10, 'Comment': 9}\n",
      "45\n"
     ]
    }
   ],
   "source": [
    "def total_likes():\n",
    "    reviews = [{'Image': 4, 'Like': 20, 'Comment': 12},\n",
    "               {'Like': 15, 'Comment': 8, 'Share': 10},\n",
    "               {'Image': 7, 'Comment': 16, 'Share': 37},\n",
    "               {'Image': 6, 'Like': 10, 'Comment': 9}]\n",
    "\n",
    "    total = 0\n",
    "\n",
    "    for review in reviews:\n",
    "        try:\n",
    "            total += review['Like']\n",
    "        except KeyError:\n",
    "            pass\n",
    "        else:\n",
    "            print(f\"Found {review['Like']} likes in review: {review}\")\n",
    "    \n",
    "    return total\n",
    "\n",
    "total_number_of_likes = total_likes()\n",
    "print(total_number_of_likes)\n"
   ]
  },
  {
   "cell_type": "markdown",
   "id": "d13b6018",
   "metadata": {},
   "source": [
    "# Q 3:\n",
    "\"\"\"\n",
    "Define a function named 'give_me_a_key'.\n",
    "It will ask for the user to press any key on the keyboard.\n",
    "If the key that the user pressed is:\n",
    "1- a number -> return its square\n",
    "2- a letter -> return its capital form\n",
    "3- neither a number nor a letter -> return the key itself\n",
    "\n",
    "Define this function by using try-except-else-finally structure.\n",
    "\"\"\"\n",
    "\n",
    "\n"
   ]
  },
  {
   "cell_type": "code",
   "execution_count": 13,
   "id": "8b60ece4",
   "metadata": {},
   "outputs": [
    {
     "name": "stdout",
     "output_type": "stream",
     "text": [
      "Press any key: weed\n",
      "End of function.\n",
      "Result: WEED\n"
     ]
    }
   ],
   "source": [
    "def give_me_a_key():\n",
    "    try:\n",
    "        key = input(\"Press any key: \")\n",
    "        if key.isnumeric():\n",
    "            return int(key) ** 2\n",
    "        elif key.isalpha():\n",
    "            return key.upper()\n",
    "        else:\n",
    "            return key\n",
    "    except Exception as e:\n",
    "        print(f\"Error: {e}\")\n",
    "    else:\n",
    "        print(\"No error occurred.\")\n",
    "    finally:\n",
    "        print(\"End of function.\")\n",
    "result = give_me_a_key()\n",
    "print(f\"Result: {result}\")"
   ]
  },
  {
   "cell_type": "markdown",
   "id": "213af357",
   "metadata": {},
   "source": [
    "# Q 4:\n",
    "\"\"\"\n",
    "Define a function named 'item_at_index'.\n",
    "It will take a list and an index as parameters.\n",
    "It will search for the item at this index in the list.\n",
    "If it doesn't find the item, it will raise a standard exception.\n",
    "If it finds, it will return the result.\n",
    "\n",
    "Hints:\n",
    "* try-except-else\n",
    "* raise only (no exception type declaration)\n",
    "\"\"\"\n",
    "\n"
   ]
  },
  {
   "cell_type": "code",
   "execution_count": 14,
   "id": "e6e8ac26",
   "metadata": {},
   "outputs": [
    {
     "name": "stdout",
     "output_type": "stream",
     "text": [
      "t\n"
     ]
    }
   ],
   "source": [
    "def item_at_index(lst, index):\n",
    "    try:\n",
    "        result = lst[index]\n",
    "    except IndexError:\n",
    "        raise Exception(\"Index is out of range!\")\n",
    "    else:\n",
    "        return result\n",
    "my_list = ['x', 'y', 'z', 't']\n",
    "ind = 3\n",
    "result = item_at_index(my_list, ind)\n",
    "print(result)"
   ]
  },
  {
   "cell_type": "code",
   "execution_count": null,
   "id": "eef8d192",
   "metadata": {},
   "outputs": [],
   "source": []
  }
 ],
 "metadata": {
  "kernelspec": {
   "display_name": "Python 3",
   "language": "python",
   "name": "python3"
  },
  "language_info": {
   "codemirror_mode": {
    "name": "ipython",
    "version": 3
   },
   "file_extension": ".py",
   "mimetype": "text/x-python",
   "name": "python",
   "nbconvert_exporter": "python",
   "pygments_lexer": "ipython3",
   "version": "3.8.8"
  }
 },
 "nbformat": 4,
 "nbformat_minor": 5
}
