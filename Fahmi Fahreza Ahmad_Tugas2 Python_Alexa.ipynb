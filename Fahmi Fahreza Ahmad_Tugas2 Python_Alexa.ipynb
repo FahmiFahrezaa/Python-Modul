{
 "cells": [
  {
   "cell_type": "markdown",
   "id": "6fcdf0b6",
   "metadata": {},
   "source": [
    "# no 1"
   ]
  },
  {
   "cell_type": "code",
   "execution_count": 1,
   "id": "8ef13108",
   "metadata": {},
   "outputs": [
    {
     "name": "stdout",
     "output_type": "stream",
     "text": [
      "Hello World!\n"
     ]
    }
   ],
   "source": [
    "print(\"Hello World!\")"
   ]
  },
  {
   "cell_type": "markdown",
   "id": "bdb19660",
   "metadata": {},
   "source": [
    "# no 2"
   ]
  },
  {
   "cell_type": "code",
   "execution_count": 2,
   "id": "f5f888dc",
   "metadata": {},
   "outputs": [
    {
     "name": "stdout",
     "output_type": "stream",
     "text": [
      "Alice's Adventures\n"
     ]
    }
   ],
   "source": [
    "print(\"Alice's Adventures\")"
   ]
  },
  {
   "cell_type": "markdown",
   "id": "bd438a0b",
   "metadata": {},
   "source": [
    "# no 3"
   ]
  },
  {
   "cell_type": "code",
   "execution_count": 3,
   "id": "a2931e8e",
   "metadata": {},
   "outputs": [
    {
     "name": "stdout",
     "output_type": "stream",
     "text": [
      "Nama Peserta Fahmi Fahreza Ahmad\n"
     ]
    }
   ],
   "source": [
    "nama_peserta = (\"Fahmi Fahreza Ahmad\")\n",
    "print(\"Nama Peserta\", nama_peserta)"
   ]
  },
  {
   "cell_type": "markdown",
   "id": "5db957c6",
   "metadata": {},
   "source": [
    "# no 4"
   ]
  },
  {
   "cell_type": "code",
   "execution_count": 4,
   "id": "610967d6",
   "metadata": {},
   "outputs": [
    {
     "name": "stdout",
     "output_type": "stream",
     "text": [
      "70\n"
     ]
    }
   ],
   "source": [
    "x = 20\n",
    "y = 50\n",
    "\n",
    "z = x+y\n",
    "print(z)"
   ]
  },
  {
   "cell_type": "code",
   "execution_count": 5,
   "id": "cf1a3d46",
   "metadata": {},
   "outputs": [
    {
     "name": "stdout",
     "output_type": "stream",
     "text": [
      "70\n"
     ]
    }
   ],
   "source": [
    "#dengan return\n",
    "def nilai(x,y):\n",
    "    return(x+y)\n",
    "z = nilai(20,50)\n",
    "print(z)"
   ]
  },
  {
   "cell_type": "code",
   "execution_count": 6,
   "id": "92e8968f",
   "metadata": {},
   "outputs": [
    {
     "name": "stdout",
     "output_type": "stream",
     "text": [
      "70\n"
     ]
    }
   ],
   "source": [
    "#tanpa return\n",
    "def nilai_z(x,y):\n",
    "    z = x+y    \n",
    "print(z)"
   ]
  },
  {
   "cell_type": "markdown",
   "id": "b71e40b5",
   "metadata": {},
   "source": [
    "# no 5"
   ]
  },
  {
   "cell_type": "code",
   "execution_count": 7,
   "id": "38a927c1",
   "metadata": {},
   "outputs": [
    {
     "name": "stdout",
     "output_type": "stream",
     "text": [
      "18\n"
     ]
    }
   ],
   "source": [
    "nilai=[15,9,18]\n",
    "print (max(nilai))"
   ]
  },
  {
   "cell_type": "markdown",
   "id": "1b15445f",
   "metadata": {},
   "source": [
    "# no 6"
   ]
  },
  {
   "cell_type": "code",
   "execution_count": 10,
   "id": "f73e2d92",
   "metadata": {},
   "outputs": [
    {
     "name": "stdout",
     "output_type": "stream",
     "text": [
      "('belaJar PytHon', 'belajar python')\n"
     ]
    }
   ],
   "source": [
    "sans ='belaJar PytHon'\n",
    "q = sans.strip(),sans.lower()\n",
    "print(q)"
   ]
  },
  {
   "cell_type": "markdown",
   "id": "f6ca4168",
   "metadata": {},
   "source": [
    "# no 7"
   ]
  },
  {
   "cell_type": "code",
   "execution_count": 11,
   "id": "f35a15ca",
   "metadata": {},
   "outputs": [
    {
     "name": "stdout",
     "output_type": "stream",
     "text": [
      "8.0\n"
     ]
    }
   ],
   "source": [
    "#import terlebih dahulu library math\n",
    "import math\n",
    "print(math.sqrt(64))"
   ]
  },
  {
   "cell_type": "code",
   "execution_count": null,
   "id": "c3043c9b",
   "metadata": {},
   "outputs": [],
   "source": []
  }
 ],
 "metadata": {
  "kernelspec": {
   "display_name": "Python 3",
   "language": "python",
   "name": "python3"
  },
  "language_info": {
   "codemirror_mode": {
    "name": "ipython",
    "version": 3
   },
   "file_extension": ".py",
   "mimetype": "text/x-python",
   "name": "python",
   "nbconvert_exporter": "python",
   "pygments_lexer": "ipython3",
   "version": "3.8.8"
  }
 },
 "nbformat": 4,
 "nbformat_minor": 5
}
