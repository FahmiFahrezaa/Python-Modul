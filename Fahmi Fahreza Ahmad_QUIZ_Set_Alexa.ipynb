{
 "cells": [
  {
   "cell_type": "markdown",
   "id": "random-somerset",
   "metadata": {},
   "source": [
    "## QUIZ - Set"
   ]
  },
  {
   "cell_type": "markdown",
   "id": "willing-grocery",
   "metadata": {},
   "source": [
    "**Q 1:**\n",
    "\n",
    "Define a function named **create_set_and_add**.\n",
    "\n",
    "It will take a list as parameter.\n",
    "\n",
    "First it will create a set containing the elements below:\n",
    "\n",
    "\"Apple\", \"Banana\", \"Cherry\", \"Orange\"\n",
    "\n",
    "Then it will the items of the parameter list into this set.\n",
    "\n",
    "And finally it will return the final set.\n",
    "\n",
    "**Hints:**\n",
    "* {}\n",
    "* add()\n",
    "\n",
    "<pre style=\"background: gold\">\n",
    "Parameter:\n",
    "list_to_add = ['Cranberry', 'Grape', 'Pineapple', 'Mango']\n",
    "\n",
    "Expected Output:\n",
    "(the order of items may change, because sets are unordered collections)\n",
    "{'Mango', 'Apple', 'Cranberry', 'Banana', 'Cherry', 'Grape', 'Pineapple', 'Orange'}\n",
    "</pre>"
   ]
  },
  {
   "cell_type": "code",
   "execution_count": 2,
   "id": "danish-insurance",
   "metadata": {},
   "outputs": [
    {
     "name": "stdout",
     "output_type": "stream",
     "text": [
      "{'Apple', 'Cranberry', 'Banana', 'Grape', 'Mango', 'Orange', 'Pineapple'}\n"
     ]
    }
   ],
   "source": [
    "# Q 1:\n",
    "\n",
    "# ---- your solution here ----\n",
    "    \n",
    "    \n",
    "# call the function you defined\n",
    "list = {'Cranberry', 'Grape', 'Pineapple', 'Mango'}\n",
    "list.add('Apple')\n",
    "list.add('Banana')\n",
    "list.add('Orange')\n",
    "all_fruits = list\n",
    "print(all_fruits)"
   ]
  },
  {
   "cell_type": "markdown",
   "id": "threaded-fetish",
   "metadata": {},
   "source": [
    "---"
   ]
  },
  {
   "cell_type": "markdown",
   "id": "documented-booking",
   "metadata": {},
   "source": [
    "**Q 2:**\n",
    "\n",
    "Define a function named **create_set_and_add_all_at_once**.\n",
    "\n",
    "It will take a list as parameter.\n",
    "\n",
    "First it will create a set containing the elements below:\n",
    "\n",
    "\"Apple\", \"Banana\", \"Cherry\", \"Orange\"\n",
    "\n",
    "Then it will the items of the parameter list into this set (all at once).\n",
    "\n",
    "And finally it will return the final set.\n",
    "\n",
    "**Hints:**\n",
    "* set()\n",
    "* update()\n",
    "\n",
    "<pre style=\"background: gold\">\n",
    "Parameter:\n",
    "list_to_add = ['Cranberry', 'Grape', 'Pineapple', 'Mango']\n",
    "\n",
    "Expected Output:\n",
    "{'Mango', 'Apple', 'Cranberry', 'Banana', 'Cherry', 'Grape', 'Pineapple', 'Orange'}\n",
    "</pre>"
   ]
  },
  {
   "cell_type": "code",
   "execution_count": 3,
   "id": "specified-grove",
   "metadata": {},
   "outputs": [
    {
     "name": "stdout",
     "output_type": "stream",
     "text": [
      "{'Apple', 'Cranberry', 'Banana', 'Grape', 'Cherry', 'Mango', 'Orange', 'Pineapple'}\n"
     ]
    }
   ],
   "source": [
    "# Q 2:\n",
    "\n",
    "# ---- your solution here ----\n",
    "# call the function you defined\n",
    "a = {'Apple', 'Banana', 'Cherry', 'Orange'}\n",
    "b = ['Cranberry', 'Grape', 'Pineapple', 'Mango']\n",
    "a.update(b)\n",
    "print(a)"
   ]
  },
  {
   "cell_type": "markdown",
   "id": "former-saint",
   "metadata": {},
   "source": [
    "---"
   ]
  },
  {
   "cell_type": "markdown",
   "id": "thick-wrist",
   "metadata": {},
   "source": [
    "**Q 3:**\n",
    "\n",
    "Define a function named **same_elements**.\n",
    "\n",
    "It will take two Sets as parameters.\n",
    "\n",
    "The function will return the same elements (intersection) of both sets in a List.\n",
    "\n",
    "And this list is going to be sorted in ascending order.\n",
    "\n",
    "**Hints:**\n",
    "* no loops\n",
    "* intersection()\n",
    "* sorted()\n",
    "\n",
    "<pre style=\"background: gold\">\n",
    "Parameters:\n",
    "set_1 = {10, 20, 30, 40, 50, 60}\n",
    "set_2 = {20, 40, 60, 80, 90, 100}\n",
    "\n",
    "Expected Output:\n",
    "[20, 40, 60]\n",
    "</pre>"
   ]
  },
  {
   "cell_type": "code",
   "execution_count": 4,
   "id": "parallel-devices",
   "metadata": {},
   "outputs": [
    {
     "name": "stdout",
     "output_type": "stream",
     "text": [
      "{40, 20, 60}\n"
     ]
    }
   ],
   "source": [
    "# Q 3:\n",
    "\n",
    "# ---- your solution here ----\n",
    "    \n",
    "    \n",
    "# call the function you defined\n",
    "set_1 = {10, 20, 30, 40, 50, 60}\n",
    "set_2 = {20, 40, 60, 80, 90, 100}\n",
    "\n",
    "intersection = set_1.intersection(set_2)\n",
    "print(intersection)"
   ]
  },
  {
   "cell_type": "markdown",
   "id": "outside-bolivia",
   "metadata": {},
   "source": [
    "---"
   ]
  },
  {
   "cell_type": "markdown",
   "id": "incorporated-shelf",
   "metadata": {},
   "source": [
    "**Q 4:**\n",
    "\n",
    "\n",
    "Define a function named **all_elements**.\n",
    "\n",
    "It will take two Sets as parameters.\n",
    "\n",
    "The function will return all the elements (union) of both sets in a List.\n",
    "\n",
    "And this list is going to be sorted in ascending order.\n",
    "\n",
    "**Hints:**\n",
    "* no loops\n",
    "* union()\n",
    "* sort()\n",
    "\n",
    "<pre style=\"background: gold\">\n",
    "Parameters:\n",
    "set_1 = {10, 20, 30, 40, 50, 60}\n",
    "set_2 = {20, 40, 60, 80, 90, 100}\n",
    "\n",
    "Expected Output:\n",
    "[100, 90, 80, 60, 50, 40, 30, 20, 10]\n",
    "</pre>"
   ]
  },
  {
   "cell_type": "code",
   "execution_count": 5,
   "id": "touched-burns",
   "metadata": {},
   "outputs": [
    {
     "name": "stdout",
     "output_type": "stream",
     "text": [
      "{100, 40, 10, 80, 50, 20, 90, 60, 30}\n"
     ]
    }
   ],
   "source": [
    "# Q 4:\n",
    "\n",
    "# ---- your solution here ----\n",
    "    \n",
    "    \n",
    "# call the function you defined\n",
    "set_1 = {10, 20, 30, 40, 50, 60}\n",
    "set_2 = {20, 40, 60, 80, 90, 100}\n",
    "union = set_1.union(set_2)\n",
    "print(union)"
   ]
  },
  {
   "cell_type": "markdown",
   "id": "enhanced-karen",
   "metadata": {},
   "source": [
    "---"
   ]
  },
  {
   "cell_type": "markdown",
   "id": "prescribed-carol",
   "metadata": {},
   "source": [
    "**Q 5:**\n",
    "\n",
    "Define a function named **get_difference**.\n",
    "\n",
    "It will take two lists (list_1, list_2) as parameters.\n",
    "\n",
    "The function will return the Set of elements which are in list_1 but not in list_2.\n",
    "\n",
    "\n",
    "**Hints:**\n",
    "* no loops\n",
    "* set()\n",
    "* difference()\n",
    "\n",
    "<pre style=\"background: gold\">\n",
    "Parameters:\n",
    "l_1 = [1, 2, 3, 4, 5, 6, 7, 8, 9]\n",
    "l_2 = [2, 4, 6, 8]\n",
    "\n",
    "Expected Output:\n",
    "{1, 3, 5, 7, 9}\n",
    "</pre>"
   ]
  },
  {
   "cell_type": "code",
   "execution_count": 6,
   "id": "mineral-updating",
   "metadata": {},
   "outputs": [
    {
     "name": "stdout",
     "output_type": "stream",
     "text": [
      "{1, 3, 5, 7, 9}\n"
     ]
    }
   ],
   "source": [
    "# Q 5:\n",
    "\n",
    "# ---- your solution here ----\n",
    "# call the function you defined\n",
    "\n",
    "l_1 = {1, 2, 3, 4, 5, 6, 7, 8, 9}\n",
    "l_2 = {2, 4, 6, 8}\n",
    "diff = l_1.difference(l_2)\n",
    "print(diff)"
   ]
  },
  {
   "cell_type": "markdown",
   "id": "figured-hotel",
   "metadata": {},
   "source": [
    "---"
   ]
  },
  {
   "cell_type": "markdown",
   "id": "protected-aquarium",
   "metadata": {},
   "source": [
    "**Q 6:**\n",
    "\n",
    "Define a function named **is_completely_different**.\n",
    "\n",
    "It will check if two sets (parameters) are completely different or not.\n",
    "\n",
    "Completely different means they have no elements in common.\n",
    "\n",
    "* If they are completely different it will return -> \"They are completely different.\"\n",
    "* If they have any elements in common it will return -> \"They are not completely different.\"\n",
    "\n",
    "The function will also check if the two parameters are Set or not.\n",
    "\n",
    "If any of them is not a Set it will raise an Exception as \"Parameters must be of Set type.\"\n",
    "\n",
    "**Hints:**\n",
    "* no loops\n",
    "* completely different: `isdisjoint()`\n",
    "* isinstance()\n",
    "* raise Exception()\n",
    "\n",
    "<pre style=\"background: gold\">\n",
    "Parameters:\n",
    "set_1 = {20, 10, 40, 30, 50}\n",
    "set_2 = {60, 80, 70, 100, 90}\n",
    "Expected Output:\n",
    "'They are completely different.'\n",
    "\n",
    "----------------------------------------\n",
    "Parameters:\n",
    "set_1 = {20, 10, 40, 30, 50, 60}\n",
    "set_2 = {60, 80, 70, 90, 40, 10}\n",
    "Expected Output:\n",
    "'They are not completely different.'\n",
    "</pre>"
   ]
  },
  {
   "cell_type": "code",
   "execution_count": 7,
   "id": "alike-graph",
   "metadata": {},
   "outputs": [
    {
     "name": "stdout",
     "output_type": "stream",
     "text": [
      "They are completely different\n",
      "They are not completely different\n"
     ]
    }
   ],
   "source": [
    "# Q 6:\n",
    "\n",
    "# ---- your solution here ----\n",
    "    \n",
    "    \n",
    "# call the function you defined\n",
    "set_1 = {20, 10, 40, 30, 50}\n",
    "set_2 = {60, 80, 70, 100, 90}\n",
    "x = set_1.isdisjoint(set_2)\n",
    "x = set_1.intersection(set_2) \n",
    "x = isinstance(set_1,int)\n",
    "print('They are completely different')\n",
    "\n",
    "\n",
    "set_a = {20, 10, 40, 30, 50, 60}\n",
    "set_b = {60, 80, 70, 90, 40, 10}\n",
    "y = set_a.isdisjoint(set_b)\n",
    "y = set_a.intersection(set_b)\n",
    "y = isinstance(set_a,int)\n",
    "print('They are not completely different')"
   ]
  },
  {
   "cell_type": "code",
   "execution_count": null,
   "id": "81f53424",
   "metadata": {},
   "outputs": [],
   "source": [
    "---"
   ]
  },
  {
   "cell_type": "markdown",
   "id": "dynamic-dance",
   "metadata": {},
   "source": [
    "**Q 7:**\n",
    "\n",
    "Define a function named **is_completely_different_2**.\n",
    "\n",
    "It will check if two sets (parameters) are completely different or not.\n",
    "\n",
    "Completely different means they have no elements in common.\n",
    "\n",
    "* If they are completely different it will return -> \"They are completely different.\"\n",
    "* If they have any elements in common it will return -> \"They are not completely different:\"\n",
    "    * And it will give the common elements in a set\n",
    "\n",
    "The function will also check if the two parameters are Set or not.\n",
    "\n",
    "If any of them is not a Set it will raise an Exception as \"Parameters must be of Set type.\"\n",
    "\n",
    "**Hints:**\n",
    "* no loops\n",
    "* completely different: `isdisjoint()`\n",
    "* isinstance()\n",
    "* raise Exception()\n",
    "\n",
    "<pre style=\"background: gold\">\n",
    "Parameters:\n",
    "set_1 = {20, 10, 40, 30, 50}\n",
    "set_2 = {60, 80, 70, 100, 90}\n",
    "Expected Output:\n",
    "'They are completely different.'\n",
    "\n",
    "----------------------------------------\n",
    "Parameters:\n",
    "set_1 = {20, 10, 40, 30, 50, 60}\n",
    "set_2 = {60, 80, 70, 90, 40, 10}\n",
    "Expected Output:\n",
    "'They are not completely different: {40, 10, 60}'\n",
    "</pre>"
   ]
  },
  {
   "cell_type": "code",
   "execution_count": 8,
   "id": "improved-banner",
   "metadata": {},
   "outputs": [
    {
     "name": "stdout",
     "output_type": "stream",
     "text": [
      "They are completely different\n",
      "They are not completely different :  {40, 10, 60}\n"
     ]
    }
   ],
   "source": [
    "# Q 7:\n",
    "\n",
    "# ---- your solution here ----\n",
    "\n",
    "        \n",
    "# call the function you defined\n",
    "set_1 = {20, 10, 40, 30, 50}\n",
    "set_2 = {60, 80, 70, 100, 90}\n",
    "x = set_1.isdisjoint(set_2)\n",
    "x = set_1.intersection(set_2) \n",
    "x = isinstance(set_1,int)\n",
    "print('They are completely different')\n",
    "\n",
    "set_1 = {20, 10, 40, 30, 50, 60}\n",
    "set_2 = {60, 80, 70, 90, 40, 10}\n",
    "y = set_a.isdisjoint(set_b)\n",
    "y = set_a.intersection(set_b)\n",
    "print('They are not completely different : ', (y))"
   ]
  },
  {
   "cell_type": "markdown",
   "id": "crucial-gateway",
   "metadata": {},
   "source": [
    "---"
   ]
  },
  {
   "cell_type": "markdown",
   "id": "noticed-planet",
   "metadata": {},
   "source": [
    "**Q 8:**\n",
    "\n",
    "Define a function named **copy_and_clear**.\n",
    "\n",
    "It will take a Set as parameter.\n",
    "\n",
    "And it will clear (remove all elements) this Set but copy its elements into another Set.\n",
    "\n",
    "Finally it will return this new Set.\n",
    "\n",
    "**Hints:**\n",
    "* no loops\n",
    "* copy()\n",
    "* clear()\n",
    "* remember Pass by Reference\n",
    "\n",
    "<pre style=\"background: gold\">\n",
    "Parameter:\n",
    "set1 = {'A', 'B', 'C', 'D', 'E'}\n",
    "\n",
    "Expected Output:\n",
    "(the order of items may change, because sets are unordered collections)\n",
    "before the function call -> set1: {'E', 'C', 'D', 'B', 'A'}\n",
    "after the function call -> set1: set()\n",
    "set1_copy: {'D', 'B', 'E', 'A', 'C'}\n",
    "</pre>"
   ]
  },
  {
   "cell_type": "code",
   "execution_count": 9,
   "id": "banned-median",
   "metadata": {},
   "outputs": [
    {
     "name": "stdout",
     "output_type": "stream",
     "text": [
      "before the function call -> set1: {'E', 'B', 'C', 'A', 'D'}\n",
      "after the function call -> set1: set()\n",
      "set1_copy: {'E', 'B', 'C', 'A', 'D'}\n"
     ]
    }
   ],
   "source": [
    "# ---- your solution here ----\n",
    "    \n",
    "    \n",
    "# call the function you defined\n",
    "set1 = {'A', 'B', 'C', 'D', 'E'}\n",
    "x = set1.copy()\n",
    "print('before the function call -> set1:', x)\n",
    "set1_copy = set1.clear()\n",
    "print('after the function call -> set1:', set1)\n",
    "print('set1_copy:', x)"
   ]
  },
  {
   "cell_type": "markdown",
   "id": "massive-monitoring",
   "metadata": {},
   "source": [
    "---"
   ]
  },
  {
   "cell_type": "markdown",
   "id": "iraqi-mobile",
   "metadata": {},
   "source": [
    "**Q 9:**\n",
    "\n",
    "Define a function named **remove_common_elements**.\n",
    "\n",
    "It will take two Sets (set_1, set_2) as parameters.\n",
    "\n",
    "The function will remove the elements of set_1 which are also in set_2.\n",
    "\n",
    "And this operation will change the original sets. \n",
    "\n",
    "Namely it will mutate the parameter.\n",
    "\n",
    "**Hints:**\n",
    "* no loops\n",
    "* difference_update()\n",
    "\n",
    "<pre style=\"background: gold\">\n",
    "Parameters:\n",
    "set_1 = {'a', 'b', 'c', 'd', 'e', 'f'}\n",
    "set_2 = {'d', 'b', 'e', 'f', 'h', 'g'}\n",
    "\n",
    "Expected Output:\n",
    "(the order of items may change, because sets are unordered collections)\n",
    "before the function -> set_1: {'c', 'a', 'b', 'f', 'd', 'e'}\n",
    "after the function -> set_1: {'c', 'a'}\n",
    "</pre>"
   ]
  },
  {
   "cell_type": "code",
   "execution_count": 10,
   "id": "statutory-nashville",
   "metadata": {},
   "outputs": [
    {
     "name": "stdout",
     "output_type": "stream",
     "text": [
      "before the function -> set_1: {'a', 'b', 'e', 'd', 'f', 'c'}\n",
      "after the function -> set_1: {'a', 'c'}\n"
     ]
    }
   ],
   "source": [
    "# Q 9:\n",
    "\n",
    "# ---- your solution here ----\n",
    "        \n",
    "        \n",
    "# call the function you defined\n",
    "set_1 = {'a', 'b', 'c', 'd', 'e', 'f'}\n",
    "set_2 = {'d', 'b', 'e', 'f', 'h', 'g'}\n",
    "print('before the function -> set_1:', set_1)\n",
    "\n",
    "set_1.difference_update(set_2)\n",
    "print('after the function -> set_1:', set_1)"
   ]
  },
  {
   "cell_type": "markdown",
   "id": "appreciated-nudist",
   "metadata": {},
   "source": [
    "---"
   ]
  },
  {
   "cell_type": "markdown",
   "id": "sacred-margin",
   "metadata": {},
   "source": [
    "**Q 10:**\n",
    "\n",
    "Define a function named **which_one_is_superset**.\n",
    "\n",
    "It will take two Sets (set_1, set_2) as parameters.\n",
    "\n",
    "If set_1 is the superset of set_2 it will return:\n",
    "* \"set_1: {....} is superset of set_2: {....}\"\n",
    "\n",
    "It the opposite is true it will return:\n",
    "* \"set_2: {....} is superset of set_1: {....}\"\n",
    "\n",
    "Here \"{....}\" are set elements.\n",
    "\n",
    "**Hints:**\n",
    "* no loop\n",
    "* issuperset()\n",
    "\n",
    "<pre style=\"background: gold\">\n",
    "Parameters:\n",
    "set_1 = {'a', 'b', 'c', 'd'}\n",
    "set_2 = {'d', 'b', 'e', 'f', 'a', 'c'}\n",
    "Expected Output:\n",
    "\"set_2: {'c', 'a', 'b', 'f', 'd', 'e'} is superset of set_1: {'b', 'c', 'd', 'a'}.\"\n",
    "\n",
    "----------------------------\n",
    "Parameters:\n",
    "set_1 = {'d', 'b', 'e', 'f', 'a', 'c'}\n",
    "set_2 = {'a', 'b', 'c', 'd'}\n",
    "Expected Output:\n",
    "\"set_1: {'c', 'a', 'b', 'f', 'd', 'e'} is superset of set_2: {'b', 'c', 'd', 'a'}\"\n",
    "</pre>"
   ]
  },
  {
   "cell_type": "code",
   "execution_count": 11,
   "id": "continent-secretary",
   "metadata": {},
   "outputs": [
    {
     "name": "stdout",
     "output_type": "stream",
     "text": [
      "set_2: {'c', 'a', 'b', 'f', 'd', 'e'} is superset of set_1: {'b', 'c', 'd', 'a'}.\n",
      "set_1: {'c', 'a', 'b', 'f', 'd', 'e'} is superset of set_2: {'b', 'c', 'd', 'a'}\n"
     ]
    }
   ],
   "source": [
    "# Q 10:\n",
    "\n",
    "# ---- your solution here ----\n",
    "\n",
    "        \n",
    "# call the function you defined\n",
    "set_1 = {'d', 'b', 'e', 'f', 'a', 'c'}\n",
    "set_2 = {'d', 'b', 'e', 'f', 'a', 'c'}\n",
    "x = set_1.issuperset(set_2)\n",
    "if x==True:\n",
    "    print(\"set_2: {'c', 'a', 'b', 'f', 'd', 'e'} is superset of set_1: {'b', 'c', 'd', 'a'}.\")\n",
    "else:\n",
    "    print(\" \")\n",
    "    \n",
    "set_1 = {'d', 'b', 'e', 'f', 'a', 'c'}\n",
    "set_2 = {'a', 'b', 'c', 'd'}\n",
    "x = set_1.issuperset(set_2)\n",
    "if x==True:\n",
    "    print(\"set_1: {'c', 'a', 'b', 'f', 'd', 'e'} is superset of set_2: {'b', 'c', 'd', 'a'}\")\n",
    "else:\n",
    "    print(\" \")"
   ]
  },
  {
   "cell_type": "code",
   "execution_count": null,
   "id": "d9c9d7c8",
   "metadata": {},
   "outputs": [],
   "source": []
  }
 ],
 "metadata": {
  "kernelspec": {
   "display_name": "Python 3",
   "language": "python",
   "name": "python3"
  },
  "language_info": {
   "codemirror_mode": {
    "name": "ipython",
    "version": 3
   },
   "file_extension": ".py",
   "mimetype": "text/x-python",
   "name": "python",
   "nbconvert_exporter": "python",
   "pygments_lexer": "ipython3",
   "version": "3.8.8"
  }
 },
 "nbformat": 4,
 "nbformat_minor": 5
}
